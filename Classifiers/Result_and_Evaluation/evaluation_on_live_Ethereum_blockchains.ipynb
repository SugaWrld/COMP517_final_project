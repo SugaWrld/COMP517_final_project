{
 "cells": [
  {
   "cell_type": "code",
   "execution_count": 1,
   "id": "737ddc40",
   "metadata": {
    "execution": {
     "iopub.execute_input": "2025-04-23T17:43:46.621058Z",
     "iopub.status.busy": "2025-04-23T17:43:46.620752Z",
     "iopub.status.idle": "2025-04-23T17:43:54.295182Z",
     "shell.execute_reply": "2025-04-23T17:43:54.294253Z"
    },
    "papermill": {
     "duration": 7.679643,
     "end_time": "2025-04-23T17:43:54.296828",
     "exception": false,
     "start_time": "2025-04-23T17:43:46.617185",
     "status": "completed"
    },
    "tags": []
   },
   "outputs": [
    {
     "name": "stdout",
     "output_type": "stream",
     "text": [
      "Collecting web3\r\n",
      "  Downloading web3-7.10.0-py3-none-any.whl.metadata (5.6 kB)\r\n",
      "Collecting eth-abi>=5.0.1 (from web3)\r\n",
      "  Downloading eth_abi-5.2.0-py3-none-any.whl.metadata (3.8 kB)\r\n",
      "Collecting eth-account>=0.13.1 (from web3)\r\n",
      "  Downloading eth_account-0.13.7-py3-none-any.whl.metadata (3.7 kB)\r\n",
      "Collecting eth-hash>=0.5.1 (from eth-hash[pycryptodome]>=0.5.1->web3)\r\n",
      "  Downloading eth_hash-0.7.1-py3-none-any.whl.metadata (4.2 kB)\r\n",
      "Collecting eth-typing>=5.0.0 (from web3)\r\n",
      "  Downloading eth_typing-5.2.1-py3-none-any.whl.metadata (3.2 kB)\r\n",
      "Collecting eth-utils>=5.0.0 (from web3)\r\n",
      "  Downloading eth_utils-5.3.0-py3-none-any.whl.metadata (5.7 kB)\r\n",
      "Collecting hexbytes>=1.2.0 (from web3)\r\n",
      "  Downloading hexbytes-1.3.0-py3-none-any.whl.metadata (3.3 kB)\r\n",
      "Requirement already satisfied: aiohttp>=3.7.4.post0 in /usr/local/lib/python3.10/dist-packages (from web3) (3.11.12)\r\n",
      "Requirement already satisfied: pydantic>=2.4.0 in /usr/local/lib/python3.10/dist-packages (from web3) (2.11.0a2)\r\n",
      "Requirement already satisfied: requests>=2.23.0 in /usr/local/lib/python3.10/dist-packages (from web3) (2.32.3)\r\n",
      "Requirement already satisfied: typing-extensions>=4.0.1 in /usr/local/lib/python3.10/dist-packages (from web3) (4.12.2)\r\n",
      "Collecting types-requests>=2.0.0 (from web3)\r\n",
      "  Downloading types_requests-2.32.0.20250328-py3-none-any.whl.metadata (2.3 kB)\r\n",
      "Requirement already satisfied: websockets<16.0.0,>=10.0.0 in /usr/local/lib/python3.10/dist-packages (from web3) (14.1)\r\n",
      "Collecting pyunormalize>=15.0.0 (from web3)\r\n",
      "  Downloading pyunormalize-16.0.0-py3-none-any.whl.metadata (4.0 kB)\r\n",
      "Requirement already satisfied: aiohappyeyeballs>=2.3.0 in /usr/local/lib/python3.10/dist-packages (from aiohttp>=3.7.4.post0->web3) (2.4.6)\r\n",
      "Requirement already satisfied: aiosignal>=1.1.2 in /usr/local/lib/python3.10/dist-packages (from aiohttp>=3.7.4.post0->web3) (1.3.2)\r\n",
      "Requirement already satisfied: async-timeout<6.0,>=4.0 in /usr/local/lib/python3.10/dist-packages (from aiohttp>=3.7.4.post0->web3) (5.0.1)\r\n",
      "Requirement already satisfied: attrs>=17.3.0 in /usr/local/lib/python3.10/dist-packages (from aiohttp>=3.7.4.post0->web3) (25.1.0)\r\n",
      "Requirement already satisfied: frozenlist>=1.1.1 in /usr/local/lib/python3.10/dist-packages (from aiohttp>=3.7.4.post0->web3) (1.5.0)\r\n",
      "Requirement already satisfied: multidict<7.0,>=4.5 in /usr/local/lib/python3.10/dist-packages (from aiohttp>=3.7.4.post0->web3) (6.1.0)\r\n",
      "Requirement already satisfied: propcache>=0.2.0 in /usr/local/lib/python3.10/dist-packages (from aiohttp>=3.7.4.post0->web3) (0.2.1)\r\n",
      "Requirement already satisfied: yarl<2.0,>=1.17.0 in /usr/local/lib/python3.10/dist-packages (from aiohttp>=3.7.4.post0->web3) (1.18.3)\r\n",
      "Collecting parsimonious<0.11.0,>=0.10.0 (from eth-abi>=5.0.1->web3)\r\n",
      "  Downloading parsimonious-0.10.0-py3-none-any.whl.metadata (25 kB)\r\n",
      "Collecting bitarray>=2.4.0 (from eth-account>=0.13.1->web3)\r\n",
      "  Downloading bitarray-3.3.1-cp310-cp310-manylinux_2_17_x86_64.manylinux2014_x86_64.whl.metadata (33 kB)\r\n",
      "Collecting eth-keyfile<0.9.0,>=0.7.0 (from eth-account>=0.13.1->web3)\r\n",
      "  Downloading eth_keyfile-0.8.1-py3-none-any.whl.metadata (8.5 kB)\r\n",
      "Collecting eth-keys>=0.4.0 (from eth-account>=0.13.1->web3)\r\n",
      "  Downloading eth_keys-0.7.0-py3-none-any.whl.metadata (13 kB)\r\n",
      "Collecting eth-rlp>=2.1.0 (from eth-account>=0.13.1->web3)\r\n",
      "  Downloading eth_rlp-2.2.0-py3-none-any.whl.metadata (3.3 kB)\r\n",
      "Collecting rlp>=1.0.0 (from eth-account>=0.13.1->web3)\r\n",
      "  Downloading rlp-4.1.0-py3-none-any.whl.metadata (3.2 kB)\r\n",
      "Collecting ckzg>=2.0.0 (from eth-account>=0.13.1->web3)\r\n",
      "  Downloading ckzg-2.1.1-cp310-cp310-manylinux_2_17_x86_64.manylinux2014_x86_64.whl.metadata (887 bytes)\r\n",
      "Requirement already satisfied: pycryptodome<4,>=3.6.6 in /usr/local/lib/python3.10/dist-packages (from eth-hash[pycryptodome]>=0.5.1->web3) (3.21.0)\r\n",
      "Requirement already satisfied: cytoolz>=0.10.1 in /usr/local/lib/python3.10/dist-packages (from eth-utils>=5.0.0->web3) (1.0.1)\r\n",
      "Requirement already satisfied: annotated-types>=0.6.0 in /usr/local/lib/python3.10/dist-packages (from pydantic>=2.4.0->web3) (0.7.0)\r\n",
      "Requirement already satisfied: pydantic-core==2.29.0 in /usr/local/lib/python3.10/dist-packages (from pydantic>=2.4.0->web3) (2.29.0)\r\n",
      "Requirement already satisfied: charset-normalizer<4,>=2 in /usr/local/lib/python3.10/dist-packages (from requests>=2.23.0->web3) (3.4.1)\r\n",
      "Requirement already satisfied: idna<4,>=2.5 in /usr/local/lib/python3.10/dist-packages (from requests>=2.23.0->web3) (3.10)\r\n",
      "Requirement already satisfied: urllib3<3,>=1.21.1 in /usr/local/lib/python3.10/dist-packages (from requests>=2.23.0->web3) (2.3.0)\r\n",
      "Requirement already satisfied: certifi>=2017.4.17 in /usr/local/lib/python3.10/dist-packages (from requests>=2.23.0->web3) (2025.1.31)\r\n",
      "Requirement already satisfied: toolz>=0.8.0 in /usr/local/lib/python3.10/dist-packages (from cytoolz>=0.10.1->eth-utils>=5.0.0->web3) (0.12.1)\r\n",
      "Requirement already satisfied: regex>=2022.3.15 in /usr/local/lib/python3.10/dist-packages (from parsimonious<0.11.0,>=0.10.0->eth-abi>=5.0.1->web3) (2024.11.6)\r\n",
      "Downloading web3-7.10.0-py3-none-any.whl (1.4 MB)\r\n",
      "\u001b[2K   \u001b[90m━━━━━━━━━━━━━━━━━━━━━━━━━━━━━━━━━━━━━━━━\u001b[0m \u001b[32m1.4/1.4 MB\u001b[0m \u001b[31m34.6 MB/s\u001b[0m eta \u001b[36m0:00:00\u001b[0m\r\n",
      "\u001b[?25hDownloading eth_abi-5.2.0-py3-none-any.whl (28 kB)\r\n",
      "Downloading eth_account-0.13.7-py3-none-any.whl (587 kB)\r\n",
      "\u001b[2K   \u001b[90m━━━━━━━━━━━━━━━━━━━━━━━━━━━━━━━━━━━━━━━━\u001b[0m \u001b[32m587.5/587.5 kB\u001b[0m \u001b[31m29.3 MB/s\u001b[0m eta \u001b[36m0:00:00\u001b[0m\r\n",
      "\u001b[?25hDownloading eth_hash-0.7.1-py3-none-any.whl (8.0 kB)\r\n",
      "Downloading eth_typing-5.2.1-py3-none-any.whl (19 kB)\r\n",
      "Downloading eth_utils-5.3.0-py3-none-any.whl (102 kB)\r\n",
      "\u001b[2K   \u001b[90m━━━━━━━━━━━━━━━━━━━━━━━━━━━━━━━━━━━━━━━━\u001b[0m \u001b[32m102.5/102.5 kB\u001b[0m \u001b[31m6.8 MB/s\u001b[0m eta \u001b[36m0:00:00\u001b[0m\r\n",
      "\u001b[?25hDownloading hexbytes-1.3.0-py3-none-any.whl (4.9 kB)\r\n",
      "Downloading pyunormalize-16.0.0-py3-none-any.whl (49 kB)\r\n",
      "\u001b[2K   \u001b[90m━━━━━━━━━━━━━━━━━━━━━━━━━━━━━━━━━━━━━━━━\u001b[0m \u001b[32m49.2/49.2 kB\u001b[0m \u001b[31m2.7 MB/s\u001b[0m eta \u001b[36m0:00:00\u001b[0m\r\n",
      "\u001b[?25hDownloading types_requests-2.32.0.20250328-py3-none-any.whl (20 kB)\r\n",
      "Downloading bitarray-3.3.1-cp310-cp310-manylinux_2_17_x86_64.manylinux2014_x86_64.whl (299 kB)\r\n",
      "\u001b[2K   \u001b[90m━━━━━━━━━━━━━━━━━━━━━━━━━━━━━━━━━━━━━━━━\u001b[0m \u001b[32m299.3/299.3 kB\u001b[0m \u001b[31m18.1 MB/s\u001b[0m eta \u001b[36m0:00:00\u001b[0m\r\n",
      "\u001b[?25hDownloading ckzg-2.1.1-cp310-cp310-manylinux_2_17_x86_64.manylinux2014_x86_64.whl (169 kB)\r\n",
      "\u001b[2K   \u001b[90m━━━━━━━━━━━━━━━━━━━━━━━━━━━━━━━━━━━━━━━━\u001b[0m \u001b[32m169.7/169.7 kB\u001b[0m \u001b[31m9.3 MB/s\u001b[0m eta \u001b[36m0:00:00\u001b[0m\r\n",
      "\u001b[?25hDownloading eth_keyfile-0.8.1-py3-none-any.whl (7.5 kB)\r\n",
      "Downloading eth_keys-0.7.0-py3-none-any.whl (20 kB)\r\n",
      "Downloading eth_rlp-2.2.0-py3-none-any.whl (4.4 kB)\r\n",
      "Downloading parsimonious-0.10.0-py3-none-any.whl (48 kB)\r\n",
      "\u001b[2K   \u001b[90m━━━━━━━━━━━━━━━━━━━━━━━━━━━━━━━━━━━━━━━━\u001b[0m \u001b[32m48.4/48.4 kB\u001b[0m \u001b[31m3.1 MB/s\u001b[0m eta \u001b[36m0:00:00\u001b[0m\r\n",
      "\u001b[?25hDownloading rlp-4.1.0-py3-none-any.whl (19 kB)\r\n",
      "Installing collected packages: ckzg, bitarray, types-requests, pyunormalize, parsimonious, hexbytes, eth-typing, eth-hash, eth-utils, rlp, eth-keys, eth-abi, eth-rlp, eth-keyfile, eth-account, web3\r\n",
      "Successfully installed bitarray-3.3.1 ckzg-2.1.1 eth-abi-5.2.0 eth-account-0.13.7 eth-hash-0.7.1 eth-keyfile-0.8.1 eth-keys-0.7.0 eth-rlp-2.2.0 eth-typing-5.2.1 eth-utils-5.3.0 hexbytes-1.3.0 parsimonious-0.10.0 pyunormalize-16.0.0 rlp-4.1.0 types-requests-2.32.0.20250328 web3-7.10.0\r\n"
     ]
    }
   ],
   "source": [
    "! pip install web3"
   ]
  },
  {
   "cell_type": "code",
   "execution_count": 2,
   "id": "9a4a113b",
   "metadata": {
    "_cell_guid": "b1076dfc-b9ad-4769-8c92-a6c4dae69d19",
    "_uuid": "8f2839f25d086af736a60e9eeb907d3b93b6e0e5",
    "execution": {
     "iopub.execute_input": "2025-04-23T17:43:54.304180Z",
     "iopub.status.busy": "2025-04-23T17:43:54.303956Z",
     "iopub.status.idle": "2025-04-23T17:43:56.097077Z",
     "shell.execute_reply": "2025-04-23T17:43:56.096231Z"
    },
    "papermill": {
     "duration": 1.798168,
     "end_time": "2025-04-23T17:43:56.098537",
     "exception": false,
     "start_time": "2025-04-23T17:43:54.300369",
     "status": "completed"
    },
    "tags": []
   },
   "outputs": [],
   "source": [
    "from web3 import Web3\n",
    "import datetime\n",
    "import pandas as pd\n",
    "import pickle\n",
    "import os"
   ]
  },
  {
   "cell_type": "code",
   "execution_count": 3,
   "id": "fa394bb4",
   "metadata": {
    "execution": {
     "iopub.execute_input": "2025-04-23T17:43:56.106412Z",
     "iopub.status.busy": "2025-04-23T17:43:56.105946Z",
     "iopub.status.idle": "2025-04-23T17:43:56.488255Z",
     "shell.execute_reply": "2025-04-23T17:43:56.487517Z"
    },
    "papermill": {
     "duration": 0.387281,
     "end_time": "2025-04-23T17:43:56.489365",
     "exception": false,
     "start_time": "2025-04-23T17:43:56.102084",
     "status": "completed"
    },
    "tags": []
   },
   "outputs": [
    {
     "name": "stdout",
     "output_type": "stream",
     "text": [
      "Connected to Ethereum blockchain.\n"
     ]
    }
   ],
   "source": [
    "# -------------------------------\n",
    "# 1. Connect to the Ethereum Blockchain\n",
    "# -------------------------------\n",
    "# Replace with your Ethereum node endpoint (e.g., Infura)\n",
    "infura_url = \"https://mainnet.infura.io/v3/ac8ff00d02044bf0bdfa8df9c12ff8ec\"\n",
    "w3 = Web3(Web3.HTTPProvider(infura_url))\n",
    "\n",
    "if not w3.is_connected():\n",
    "    raise Exception(\"Failed to connect to the Ethereum node.\")\n",
    "else:\n",
    "    print(\"Connected to Ethereum blockchain.\")"
   ]
  },
  {
   "cell_type": "code",
   "execution_count": 4,
   "id": "d95f6416",
   "metadata": {
    "execution": {
     "iopub.execute_input": "2025-04-23T17:43:56.496653Z",
     "iopub.status.busy": "2025-04-23T17:43:56.496373Z",
     "iopub.status.idle": "2025-04-23T17:44:05.743362Z",
     "shell.execute_reply": "2025-04-23T17:44:05.742408Z"
    },
    "papermill": {
     "duration": 9.25219,
     "end_time": "2025-04-23T17:44:05.744873",
     "exception": false,
     "start_time": "2025-04-23T17:43:56.492683",
     "status": "completed"
    },
    "tags": []
   },
   "outputs": [
    {
     "name": "stdout",
     "output_type": "stream",
     "text": [
      "Loaded 7 pipelines: ['RF+XGB', 'MLP', 'RF+MLP', 'XGB', 'RF+MLP+XGB', 'MLP+XGB', 'RF']\n"
     ]
    }
   ],
   "source": [
    "# -------------------------------\n",
    "# 2. Load All Trained Model Pipelines from Kaggle Input\n",
    "# -------------------------------\n",
    "model_dir = \"/kaggle/input/comp517_models/scikitlearn/default/1\"\n",
    "pipelines = {}\n",
    "for fname in os.listdir(model_dir):\n",
    "    if fname.startswith(\"pipeline_\") and fname.endswith(\".pkl\"):\n",
    "        fullpath = os.path.join(model_dir, fname)\n",
    "        # e.g. fname = \"pipeline_MLP.pkl\" → name = \"MLP\"\n",
    "        name = fname.replace(\"pipeline_\", \"\").replace(\".pkl\", \"\").replace(\"_\", \"+\")\n",
    "        with open(fullpath, \"rb\") as f:\n",
    "            pipelines[name] = pickle.load(f)\n",
    "\n",
    "print(f\"Loaded {len(pipelines)} pipelines: {list(pipelines.keys())}\")"
   ]
  },
  {
   "cell_type": "code",
   "execution_count": 5,
   "id": "73628809",
   "metadata": {
    "execution": {
     "iopub.execute_input": "2025-04-23T17:44:05.752928Z",
     "iopub.status.busy": "2025-04-23T17:44:05.752444Z",
     "iopub.status.idle": "2025-04-23T17:44:06.198914Z",
     "shell.execute_reply": "2025-04-23T17:44:06.197983Z"
    },
    "papermill": {
     "duration": 0.45197,
     "end_time": "2025-04-23T17:44:06.200640",
     "exception": false,
     "start_time": "2025-04-23T17:44:05.748670",
     "status": "completed"
    },
    "tags": []
   },
   "outputs": [],
   "source": [
    "# -------------------------------\n",
    "# 3. Fetch Latest Block and Its Transactions\n",
    "# -------------------------------\n",
    "latest_block_number = w3.eth.block_number\n",
    "block = w3.eth.get_block(latest_block_number, full_transactions=True)\n",
    "transactions = block.transactions\n",
    "\n",
    "# Prepare block-level time features\n",
    "block_dt = datetime.datetime.utcfromtimestamp(block.timestamp)\n",
    "time_feats = {\n",
    "    \"hour\":   block_dt.hour,\n",
    "    \"day\":    block_dt.day,\n",
    "    \"month\":  block_dt.month,\n",
    "    \"year\":   block_dt.year\n",
    "}"
   ]
  },
  {
   "cell_type": "code",
   "execution_count": 6,
   "id": "11696b6f",
   "metadata": {
    "execution": {
     "iopub.execute_input": "2025-04-23T17:44:06.208806Z",
     "iopub.status.busy": "2025-04-23T17:44:06.208443Z",
     "iopub.status.idle": "2025-04-23T17:44:06.218436Z",
     "shell.execute_reply": "2025-04-23T17:44:06.217578Z"
    },
    "papermill": {
     "duration": 0.015453,
     "end_time": "2025-04-23T17:44:06.219795",
     "exception": false,
     "start_time": "2025-04-23T17:44:06.204342",
     "status": "completed"
    },
    "tags": []
   },
   "outputs": [
    {
     "name": "stdout",
     "output_type": "stream",
     "text": [
      "Prepared DataFrame with 229 transactions.\n"
     ]
    }
   ],
   "source": [
    "# -------------------------------\n",
    "# 4. Build a DataFrame of New Transactions\n",
    "# -------------------------------\n",
    "records = []\n",
    "for tx in transactions:\n",
    "    records.append({\n",
    "        \"BlockHeight\": tx[\"blockNumber\"],\n",
    "        \"Value\":       float(w3.from_wei(tx[\"value\"], \"ether\")),\n",
    "        \"From\":        tx[\"from\"],\n",
    "        \"To\":          tx[\"to\"] or \"0x0\",\n",
    "        **time_feats\n",
    "    })\n",
    "df_new = pd.DataFrame(records)\n",
    "print(f\"Prepared DataFrame with {len(df_new)} transactions.\")"
   ]
  },
  {
   "cell_type": "code",
   "execution_count": 7,
   "id": "2b495de1",
   "metadata": {
    "execution": {
     "iopub.execute_input": "2025-04-23T17:44:06.227706Z",
     "iopub.status.busy": "2025-04-23T17:44:06.227333Z",
     "iopub.status.idle": "2025-04-23T17:44:06.710939Z",
     "shell.execute_reply": "2025-04-23T17:44:06.709951Z"
    },
    "papermill": {
     "duration": 0.489002,
     "end_time": "2025-04-23T17:44:06.712375",
     "exception": false,
     "start_time": "2025-04-23T17:44:06.223373",
     "status": "completed"
    },
    "tags": []
   },
   "outputs": [
    {
     "name": "stdout",
     "output_type": "stream",
     "text": [
      "\n",
      "Prediction Summary:\n",
      "        Model  Valid (0)  Error (1)  Total\n",
      "0      RF+XGB        229          0    229\n",
      "1         MLP        229          0    229\n",
      "2      RF+MLP        229          0    229\n",
      "3         XGB        229          0    229\n",
      "4  RF+MLP+XGB        229          0    229\n",
      "5     MLP+XGB        229          0    229\n",
      "6          RF        229          0    229\n"
     ]
    }
   ],
   "source": [
    "# -------------------------------\n",
    "# 5. Predict & Summarize for Each Model\n",
    "# -------------------------------\n",
    "summary = []\n",
    "for name, pipe in pipelines.items():\n",
    "    preds = pipe.predict(df_new)               # pipeline expects the same raw-feature columns\n",
    "    valid_count = int((preds == 0).sum())\n",
    "    error_count = int((preds == 1).sum())\n",
    "    summary.append({\n",
    "        \"Model\":       name,\n",
    "        \"Valid (0)\":  valid_count,\n",
    "        \"Error (1)\":  error_count,\n",
    "        \"Total\":      len(preds)\n",
    "    })\n",
    "\n",
    "summary_df = pd.DataFrame(summary)\n",
    "print(\"\\nPrediction Summary:\")\n",
    "print(summary_df)"
   ]
  },
  {
   "cell_type": "code",
   "execution_count": 8,
   "id": "d7c6b66d",
   "metadata": {
    "execution": {
     "iopub.execute_input": "2025-04-23T17:44:06.720941Z",
     "iopub.status.busy": "2025-04-23T17:44:06.720625Z",
     "iopub.status.idle": "2025-04-23T17:44:06.731317Z",
     "shell.execute_reply": "2025-04-23T17:44:06.730356Z"
    },
    "papermill": {
     "duration": 0.016209,
     "end_time": "2025-04-23T17:44:06.732602",
     "exception": false,
     "start_time": "2025-04-23T17:44:06.716393",
     "status": "completed"
    },
    "tags": []
   },
   "outputs": [
    {
     "name": "stdout",
     "output_type": "stream",
     "text": [
      "\n",
      "Saved summary to prediction_summary.csv\n"
     ]
    }
   ],
   "source": [
    "# -------------------------------\n",
    "# 6. Save the Summary to CSV\n",
    "# -------------------------------\n",
    "summary_df.to_csv(\"prediction_summary.csv\", index=False)\n",
    "print(\"\\nSaved summary to prediction_summary.csv\")"
   ]
  }
 ],
 "metadata": {
  "kaggle": {
   "accelerator": "none",
   "dataSources": [
    {
     "databundleVersionId": 11984487,
     "modelInstanceId": 295168,
     "sourceId": 353835,
     "sourceType": "modelInstanceVersion"
    },
    {
     "sourceId": 233950282,
     "sourceType": "kernelVersion"
    }
   ],
   "dockerImageVersionId": 30918,
   "isGpuEnabled": false,
   "isInternetEnabled": true,
   "language": "python",
   "sourceType": "notebook"
  },
  "kernelspec": {
   "display_name": "Python 3",
   "language": "python",
   "name": "python3"
  },
  "language_info": {
   "codemirror_mode": {
    "name": "ipython",
    "version": 3
   },
   "file_extension": ".py",
   "mimetype": "text/x-python",
   "name": "python",
   "nbconvert_exporter": "python",
   "pygments_lexer": "ipython3",
   "version": "3.10.12"
  },
  "papermill": {
   "default_parameters": {},
   "duration": 23.646265,
   "end_time": "2025-04-23T17:44:07.657281",
   "environment_variables": {},
   "exception": null,
   "input_path": "__notebook__.ipynb",
   "output_path": "__notebook__.ipynb",
   "parameters": {},
   "start_time": "2025-04-23T17:43:44.011016",
   "version": "2.6.0"
  }
 },
 "nbformat": 4,
 "nbformat_minor": 5
}
