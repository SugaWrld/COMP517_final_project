{
 "cells": [
  {
   "cell_type": "code",
   "execution_count": 1,
   "id": "4e0e990f",
   "metadata": {
    "_cell_guid": "b1076dfc-b9ad-4769-8c92-a6c4dae69d19",
    "_uuid": "8f2839f25d086af736a60e9eeb907d3b93b6e0e5",
    "execution": {
     "iopub.execute_input": "2025-04-26T20:15:20.036864Z",
     "iopub.status.busy": "2025-04-26T20:15:20.036595Z",
     "iopub.status.idle": "2025-04-26T20:15:23.094943Z",
     "shell.execute_reply": "2025-04-26T20:15:23.094383Z"
    },
    "papermill": {
     "duration": 3.062674,
     "end_time": "2025-04-26T20:15:23.096247",
     "exception": false,
     "start_time": "2025-04-26T20:15:20.033573",
     "status": "completed"
    },
    "tags": []
   },
   "outputs": [],
   "source": [
    "import pandas as pd\n",
    "from sklearn.metrics import classification_report\n",
    "import pickle"
   ]
  },
  {
   "cell_type": "code",
   "execution_count": 2,
   "id": "28abf3c6",
   "metadata": {
    "execution": {
     "iopub.execute_input": "2025-04-26T20:15:23.100540Z",
     "iopub.status.busy": "2025-04-26T20:15:23.100167Z",
     "iopub.status.idle": "2025-04-26T20:15:50.850649Z",
     "shell.execute_reply": "2025-04-26T20:15:50.849844Z"
    },
    "papermill": {
     "duration": 27.753936,
     "end_time": "2025-04-26T20:15:50.852084",
     "exception": false,
     "start_time": "2025-04-26T20:15:23.098148",
     "status": "completed"
    },
    "tags": []
   },
   "outputs": [],
   "source": [
    "# 1. Load and preprocess the second‐order dataset\n",
    "df2 = pd.read_csv(\"/kaggle/input/ethereum-transactions-for-fraud-detection/second_order_df.csv\").head(10000)\n",
    "df2.columns = df2.columns.str.strip()\n",
    "\n",
    "# Drop any stray index column\n",
    "if 'Unnamed: 0' in df2.columns:\n",
    "    df2.drop('Unnamed: 0', axis=1, inplace=True)\n",
    "\n",
    "# Convert Unix timestamp and extract time features\n",
    "df2['TimeStamp'] = pd.to_datetime(df2['TimeStamp'], unit='s')\n",
    "df2['hour']  = df2['TimeStamp'].dt.hour\n",
    "df2['day']   = df2['TimeStamp'].dt.day\n",
    "df2['month'] = df2['TimeStamp'].dt.month\n",
    "df2['year']  = df2['TimeStamp'].dt.year"
   ]
  },
  {
   "cell_type": "code",
   "execution_count": 3,
   "id": "2151fcee",
   "metadata": {
    "execution": {
     "iopub.execute_input": "2025-04-26T20:15:50.856555Z",
     "iopub.status.busy": "2025-04-26T20:15:50.855925Z",
     "iopub.status.idle": "2025-04-26T20:15:50.861615Z",
     "shell.execute_reply": "2025-04-26T20:15:50.860664Z"
    },
    "papermill": {
     "duration": 0.008867,
     "end_time": "2025-04-26T20:15:50.862715",
     "exception": false,
     "start_time": "2025-04-26T20:15:50.853848",
     "status": "completed"
    },
    "tags": []
   },
   "outputs": [],
   "source": [
    "# 2. Prepare features & target\n",
    "features = ['BlockHeight', 'Value', 'hour', 'day', 'month', 'year', 'From', 'To']\n",
    "X2 = df2[features]\n",
    "y2 = df2['isError']"
   ]
  },
  {
   "cell_type": "code",
   "execution_count": 4,
   "id": "98fac639",
   "metadata": {
    "execution": {
     "iopub.execute_input": "2025-04-26T20:15:50.866089Z",
     "iopub.status.busy": "2025-04-26T20:15:50.865877Z",
     "iopub.status.idle": "2025-04-26T20:15:58.338834Z",
     "shell.execute_reply": "2025-04-26T20:15:58.338165Z"
    },
    "papermill": {
     "duration": 7.476469,
     "end_time": "2025-04-26T20:15:58.340536",
     "exception": false,
     "start_time": "2025-04-26T20:15:50.864067",
     "status": "completed"
    },
    "tags": []
   },
   "outputs": [],
   "source": [
    "# 3. Load all your saved pipelines\n",
    "model_keys = [\"RF\", \"MLP\", \"XGB\", \"RF+MLP\", \"RF+XGB\", \"MLP+XGB\", \"RF+MLP+XGB\"]\n",
    "pipelines = {}\n",
    "for key in model_keys:\n",
    "    fname = f\"/kaggle/input/comp517_models/scikitlearn/default/1/pipeline_{key.replace('+','_')}.pkl\"\n",
    "    with open(fname, \"rb\") as f:\n",
    "        pipelines[key] = pickle.load(f)"
   ]
  },
  {
   "cell_type": "code",
   "execution_count": 5,
   "id": "dff209c8",
   "metadata": {
    "execution": {
     "iopub.execute_input": "2025-04-26T20:15:58.345457Z",
     "iopub.status.busy": "2025-04-26T20:15:58.345193Z",
     "iopub.status.idle": "2025-04-26T20:16:03.243570Z",
     "shell.execute_reply": "2025-04-26T20:16:03.241746Z"
    },
    "papermill": {
     "duration": 4.902778,
     "end_time": "2025-04-26T20:16:03.245303",
     "exception": false,
     "start_time": "2025-04-26T20:15:58.342525",
     "status": "completed"
    },
    "tags": []
   },
   "outputs": [
    {
     "name": "stdout",
     "output_type": "stream",
     "text": [
      "Overall Summary with Class-wise Correctness %:\n",
      "        Model  Valid (0)  Error (1)  Correct  Total  Accuracy  \\\n",
      "0          RF       9982         18     9999  10000    0.9999   \n",
      "1         MLP      10000          0     9983  10000    0.9983   \n",
      "2         XGB      10000          0     9983  10000    0.9983   \n",
      "3      RF+MLP       9996          4     9987  10000    0.9987   \n",
      "4      RF+XGB      10000          0     9983  10000    0.9983   \n",
      "5     MLP+XGB      10000          0     9983  10000    0.9983   \n",
      "6  RF+MLP+XGB      10000          0     9983  10000    0.9983   \n",
      "\n",
      "   Valid_Correct_%  Error_Correct_%  \n",
      "0         1.000000         0.944444  \n",
      "1         0.998300         0.000000  \n",
      "2         0.998300         0.000000  \n",
      "3         0.998699         1.000000  \n",
      "4         0.998300         0.000000  \n",
      "5         0.998300         0.000000  \n",
      "6         0.998300         0.000000  \n"
     ]
    }
   ],
   "source": [
    "# 4. Evaluate each model on the second‐order set and summarize correctness\n",
    "summary = []\n",
    "total = len(y2)\n",
    "\n",
    "for name, pipe in pipelines.items():\n",
    "    y_pred = pipe.predict(X2)\n",
    "\n",
    "    # Counts\n",
    "    valid_count = int((y_pred == 0).sum())\n",
    "    error_count = int((y_pred == 1).sum())\n",
    "    correct    = int((y_pred == y2).sum())\n",
    "    accuracy   = correct / total\n",
    "\n",
    "    # Correctness within predicted-valid\n",
    "    correct_valid = int(((y_pred == 0) & (y2 == 0)).sum())\n",
    "    valid_correct_pct = correct_valid / valid_count if valid_count > 0 else 0.0\n",
    "\n",
    "    # Correctness within predicted-error\n",
    "    correct_error = int(((y_pred == 1) & (y2 == 1)).sum())\n",
    "    error_correct_pct = correct_error / error_count if error_count > 0 else 0.0\n",
    "\n",
    "    summary.append({\n",
    "        \"Model\":            name,\n",
    "        \"Valid (0)\":        valid_count,\n",
    "        \"Error (1)\":        error_count,\n",
    "        \"Correct\":          correct,\n",
    "        \"Total\":            total,\n",
    "        \"Accuracy\":         round(accuracy, 6),\n",
    "        \"Valid_Correct_%\":  round(valid_correct_pct, 6),\n",
    "        \"Error_Correct_%\":  round(error_correct_pct, 6)\n",
    "    })\n",
    "\n",
    "summary_df = pd.DataFrame(summary)\n",
    "print(\"Overall Summary with Class-wise Correctness %:\")\n",
    "print(summary_df)"
   ]
  }
 ],
 "metadata": {
  "kaggle": {
   "accelerator": "nvidiaTeslaT4",
   "dataSources": [
    {
     "datasetId": 5276715,
     "sourceId": 8779112,
     "sourceType": "datasetVersion"
    },
    {
     "isSourceIdPinned": true,
     "modelId": 315778,
     "modelInstanceId": 295168,
     "sourceId": 353835,
     "sourceType": "modelInstanceVersion"
    }
   ],
   "dockerImageVersionId": 31011,
   "isGpuEnabled": true,
   "isInternetEnabled": true,
   "language": "python",
   "sourceType": "notebook"
  },
  "kernelspec": {
   "display_name": "Python 3",
   "language": "python",
   "name": "python3"
  },
  "language_info": {
   "codemirror_mode": {
    "name": "ipython",
    "version": 3
   },
   "file_extension": ".py",
   "mimetype": "text/x-python",
   "name": "python",
   "nbconvert_exporter": "python",
   "pygments_lexer": "ipython3",
   "version": "3.11.11"
  },
  "papermill": {
   "default_parameters": {},
   "duration": 48.420581,
   "end_time": "2025-04-26T20:16:03.864426",
   "environment_variables": {},
   "exception": null,
   "input_path": "__notebook__.ipynb",
   "output_path": "__notebook__.ipynb",
   "parameters": {},
   "start_time": "2025-04-26T20:15:15.443845",
   "version": "2.6.0"
  }
 },
 "nbformat": 4,
 "nbformat_minor": 5
}
