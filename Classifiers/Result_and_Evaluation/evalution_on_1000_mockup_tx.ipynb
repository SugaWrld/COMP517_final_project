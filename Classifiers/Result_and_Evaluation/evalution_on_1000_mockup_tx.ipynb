{
 "cells": [
  {
   "cell_type": "code",
   "execution_count": 1,
   "id": "35b56ac3",
   "metadata": {
    "_cell_guid": "b1076dfc-b9ad-4769-8c92-a6c4dae69d19",
    "_uuid": "8f2839f25d086af736a60e9eeb907d3b93b6e0e5",
    "execution": {
     "iopub.execute_input": "2025-04-26T20:15:02.680768Z",
     "iopub.status.busy": "2025-04-26T20:15:02.680532Z",
     "iopub.status.idle": "2025-04-26T20:15:05.899654Z",
     "shell.execute_reply": "2025-04-26T20:15:05.898782Z"
    },
    "papermill": {
     "duration": 3.223541,
     "end_time": "2025-04-26T20:15:05.901210",
     "exception": false,
     "start_time": "2025-04-26T20:15:02.677669",
     "status": "completed"
    },
    "tags": []
   },
   "outputs": [],
   "source": [
    "import pandas as pd\n",
    "from sklearn.metrics import classification_report\n",
    "import pickle"
   ]
  },
  {
   "cell_type": "code",
   "execution_count": 2,
   "id": "a29f9076",
   "metadata": {
    "execution": {
     "iopub.execute_input": "2025-04-26T20:15:05.905772Z",
     "iopub.status.busy": "2025-04-26T20:15:05.905454Z",
     "iopub.status.idle": "2025-04-26T20:15:33.746678Z",
     "shell.execute_reply": "2025-04-26T20:15:33.745762Z"
    },
    "papermill": {
     "duration": 27.845193,
     "end_time": "2025-04-26T20:15:33.748389",
     "exception": false,
     "start_time": "2025-04-26T20:15:05.903196",
     "status": "completed"
    },
    "tags": []
   },
   "outputs": [],
   "source": [
    "# 1. Load and preprocess the second‐order dataset\n",
    "df2 = pd.read_csv(\"/kaggle/input/ethereum-transactions-for-fraud-detection/second_order_df.csv\").head(1000)\n",
    "df2.columns = df2.columns.str.strip()\n",
    "\n",
    "# Drop any stray index column\n",
    "if 'Unnamed: 0' in df2.columns:\n",
    "    df2.drop('Unnamed: 0', axis=1, inplace=True)\n",
    "\n",
    "# Convert Unix timestamp and extract time features\n",
    "df2['TimeStamp'] = pd.to_datetime(df2['TimeStamp'], unit='s')\n",
    "df2['hour']  = df2['TimeStamp'].dt.hour\n",
    "df2['day']   = df2['TimeStamp'].dt.day\n",
    "df2['month'] = df2['TimeStamp'].dt.month\n",
    "df2['year']  = df2['TimeStamp'].dt.year"
   ]
  },
  {
   "cell_type": "code",
   "execution_count": 3,
   "id": "628b4377",
   "metadata": {
    "execution": {
     "iopub.execute_input": "2025-04-26T20:15:33.752876Z",
     "iopub.status.busy": "2025-04-26T20:15:33.752611Z",
     "iopub.status.idle": "2025-04-26T20:15:33.757541Z",
     "shell.execute_reply": "2025-04-26T20:15:33.756912Z"
    },
    "papermill": {
     "duration": 0.008423,
     "end_time": "2025-04-26T20:15:33.758804",
     "exception": false,
     "start_time": "2025-04-26T20:15:33.750381",
     "status": "completed"
    },
    "tags": []
   },
   "outputs": [],
   "source": [
    "# 2. Prepare features & target\n",
    "features = ['BlockHeight', 'Value', 'hour', 'day', 'month', 'year', 'From', 'To']\n",
    "X2 = df2[features]\n",
    "y2 = df2['isError']"
   ]
  },
  {
   "cell_type": "code",
   "execution_count": 4,
   "id": "925b91c8",
   "metadata": {
    "execution": {
     "iopub.execute_input": "2025-04-26T20:15:33.763241Z",
     "iopub.status.busy": "2025-04-26T20:15:33.762991Z",
     "iopub.status.idle": "2025-04-26T20:15:41.636783Z",
     "shell.execute_reply": "2025-04-26T20:15:41.636152Z"
    },
    "papermill": {
     "duration": 7.878023,
     "end_time": "2025-04-26T20:15:41.638638",
     "exception": false,
     "start_time": "2025-04-26T20:15:33.760615",
     "status": "completed"
    },
    "tags": []
   },
   "outputs": [],
   "source": [
    "# 3. Load all your saved pipelines\n",
    "model_keys = [\"RF\", \"MLP\", \"XGB\", \"RF+MLP\", \"RF+XGB\", \"MLP+XGB\", \"RF+MLP+XGB\"]\n",
    "pipelines = {}\n",
    "for key in model_keys:\n",
    "    fname = f\"/kaggle/input/comp517_models/scikitlearn/default/1/pipeline_{key.replace('+','_')}.pkl\"\n",
    "    with open(fname, \"rb\") as f:\n",
    "        pipelines[key] = pickle.load(f)"
   ]
  },
  {
   "cell_type": "code",
   "execution_count": 5,
   "id": "8771bc22",
   "metadata": {
    "execution": {
     "iopub.execute_input": "2025-04-26T20:15:41.643457Z",
     "iopub.status.busy": "2025-04-26T20:15:41.643222Z",
     "iopub.status.idle": "2025-04-26T20:15:42.656809Z",
     "shell.execute_reply": "2025-04-26T20:15:42.655996Z"
    },
    "papermill": {
     "duration": 1.017566,
     "end_time": "2025-04-26T20:15:42.658181",
     "exception": false,
     "start_time": "2025-04-26T20:15:41.640615",
     "status": "completed"
    },
    "tags": []
   },
   "outputs": [
    {
     "name": "stdout",
     "output_type": "stream",
     "text": [
      "Overall Summary with Class-wise Correctness %:\n",
      "        Model  Valid (0)  Error (1)  Correct  Total  Accuracy  \\\n",
      "0          RF        996          4     1000   1000     1.000   \n",
      "1         MLP       1000          0      996   1000     0.996   \n",
      "2         XGB       1000          0      996   1000     0.996   \n",
      "3      RF+MLP        998          2      998   1000     0.998   \n",
      "4      RF+XGB       1000          0      996   1000     0.996   \n",
      "5     MLP+XGB       1000          0      996   1000     0.996   \n",
      "6  RF+MLP+XGB       1000          0      996   1000     0.996   \n",
      "\n",
      "   Valid_Correct_%  Error_Correct_%  \n",
      "0         1.000000              1.0  \n",
      "1         0.996000              0.0  \n",
      "2         0.996000              0.0  \n",
      "3         0.997996              1.0  \n",
      "4         0.996000              0.0  \n",
      "5         0.996000              0.0  \n",
      "6         0.996000              0.0  \n"
     ]
    }
   ],
   "source": [
    "# 4. Evaluate each model on the second‐order set and summarize correctness\n",
    "summary = []\n",
    "total = len(y2)\n",
    "\n",
    "for name, pipe in pipelines.items():\n",
    "    y_pred = pipe.predict(X2)\n",
    "\n",
    "    # Counts\n",
    "    valid_count = int((y_pred == 0).sum())\n",
    "    error_count = int((y_pred == 1).sum())\n",
    "    correct    = int((y_pred == y2).sum())\n",
    "    accuracy   = correct / total\n",
    "\n",
    "    # Correctness within predicted-valid\n",
    "    correct_valid = int(((y_pred == 0) & (y2 == 0)).sum())\n",
    "    valid_correct_pct = correct_valid / valid_count if valid_count > 0 else 0.0\n",
    "\n",
    "    # Correctness within predicted-error\n",
    "    correct_error = int(((y_pred == 1) & (y2 == 1)).sum())\n",
    "    error_correct_pct = correct_error / error_count if error_count > 0 else 0.0\n",
    "\n",
    "    summary.append({\n",
    "        \"Model\":            name,\n",
    "        \"Valid (0)\":        valid_count,\n",
    "        \"Error (1)\":        error_count,\n",
    "        \"Correct\":          correct,\n",
    "        \"Total\":            total,\n",
    "        \"Accuracy\":         round(accuracy, 6),\n",
    "        \"Valid_Correct_%\":  round(valid_correct_pct, 6),\n",
    "        \"Error_Correct_%\":  round(error_correct_pct, 6)\n",
    "    })\n",
    "\n",
    "summary_df = pd.DataFrame(summary)\n",
    "print(\"Overall Summary with Class-wise Correctness %:\")\n",
    "print(summary_df)"
   ]
  }
 ],
 "metadata": {
  "kaggle": {
   "accelerator": "nvidiaTeslaT4",
   "dataSources": [
    {
     "datasetId": 5276715,
     "sourceId": 8779112,
     "sourceType": "datasetVersion"
    },
    {
     "isSourceIdPinned": true,
     "modelId": 315778,
     "modelInstanceId": 295168,
     "sourceId": 353835,
     "sourceType": "modelInstanceVersion"
    }
   ],
   "dockerImageVersionId": 31011,
   "isGpuEnabled": true,
   "isInternetEnabled": true,
   "language": "python",
   "sourceType": "notebook"
  },
  "kernelspec": {
   "display_name": "Python 3",
   "language": "python",
   "name": "python3"
  },
  "language_info": {
   "codemirror_mode": {
    "name": "ipython",
    "version": 3
   },
   "file_extension": ".py",
   "mimetype": "text/x-python",
   "name": "python",
   "nbconvert_exporter": "python",
   "pygments_lexer": "ipython3",
   "version": "3.11.11"
  },
  "papermill": {
   "default_parameters": {},
   "duration": 45.506258,
   "end_time": "2025-04-26T20:15:43.277546",
   "environment_variables": {},
   "exception": null,
   "input_path": "__notebook__.ipynb",
   "output_path": "__notebook__.ipynb",
   "parameters": {},
   "start_time": "2025-04-26T20:14:57.771288",
   "version": "2.6.0"
  }
 },
 "nbformat": 4,
 "nbformat_minor": 5
}
