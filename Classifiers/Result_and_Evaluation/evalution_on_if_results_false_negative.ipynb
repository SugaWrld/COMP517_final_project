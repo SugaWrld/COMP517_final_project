{
 "cells": [
  {
   "cell_type": "code",
   "execution_count": 1,
   "id": "f3570e19",
   "metadata": {
    "_cell_guid": "b1076dfc-b9ad-4769-8c92-a6c4dae69d19",
    "_uuid": "8f2839f25d086af736a60e9eeb907d3b93b6e0e5",
    "execution": {
     "iopub.execute_input": "2025-04-25T16:33:23.027447Z",
     "iopub.status.busy": "2025-04-25T16:33:23.027207Z",
     "iopub.status.idle": "2025-04-25T16:33:24.442730Z",
     "shell.execute_reply": "2025-04-25T16:33:24.441962Z"
    },
    "papermill": {
     "duration": 1.420136,
     "end_time": "2025-04-25T16:33:24.444246",
     "exception": false,
     "start_time": "2025-04-25T16:33:23.024110",
     "status": "completed"
    },
    "tags": []
   },
   "outputs": [],
   "source": [
    "import pandas as pd\n",
    "import pickle\n",
    "import os"
   ]
  },
  {
   "cell_type": "code",
   "execution_count": 2,
   "id": "b719f1c5",
   "metadata": {
    "execution": {
     "iopub.execute_input": "2025-04-25T16:33:24.449840Z",
     "iopub.status.busy": "2025-04-25T16:33:24.449556Z",
     "iopub.status.idle": "2025-04-25T16:33:24.482976Z",
     "shell.execute_reply": "2025-04-25T16:33:24.482251Z"
    },
    "papermill": {
     "duration": 0.037395,
     "end_time": "2025-04-25T16:33:24.484166",
     "exception": false,
     "start_time": "2025-04-25T16:33:24.446771",
     "status": "completed"
    },
    "tags": []
   },
   "outputs": [
    {
     "name": "stdout",
     "output_type": "stream",
     "text": [
      "Loaded 945 records from JSON array.\n",
      "Loaded 945 mock transactions.\n"
     ]
    }
   ],
   "source": [
    "import json\n",
    "\n",
    "# Path to your IF results\n",
    "res_path = \"/kaggle/input/isolation-forest-results-and-testing-datasets/blockchain_anomaly_results_encoded.json\"\n",
    "\n",
    "# Try reading as a single JSON array\n",
    "try:\n",
    "    with open(res_path, \"r\") as f:\n",
    "        data = json.load(f)\n",
    "    res_df = pd.DataFrame(data)\n",
    "    print(f\"Loaded {len(res_df)} records from JSON array.\")\n",
    "except ValueError:\n",
    "    # Fallback to line-by-line (NDJSON)\n",
    "    print(\"JSON array load failed; falling back to line-by-line parsing.\")\n",
    "    records = []\n",
    "    with open(res_path, \"r\") as f:\n",
    "        for line in f:\n",
    "            line = line.strip()\n",
    "            if not line:\n",
    "                continue\n",
    "            records.append(json.loads(line))\n",
    "    res_df = pd.DataFrame(records)\n",
    "    print(f\"Loaded {len(res_df)} records from NDJSON.\")\n",
    "\n",
    "# Now do the same for your mock transactions if needed:\n",
    "test_path = \"/kaggle/input/isolation-forest-results-and-testing-datasets/mock_blockchain_transactions_large.json\"\n",
    "\n",
    "# Assuming mock file *is* an array of objects, you can just do:\n",
    "with open(test_path, \"r\") as f:\n",
    "    mock_data = json.load(f)\n",
    "test_df = pd.DataFrame(mock_data)\n",
    "print(f\"Loaded {len(test_df)} mock transactions.\")\n",
    "\n",
    "# …and then proceed with the merge, filter, feature extraction, and predictions as before.\n"
   ]
  },
  {
   "cell_type": "code",
   "execution_count": 3,
   "id": "cb43472c",
   "metadata": {
    "execution": {
     "iopub.execute_input": "2025-04-25T16:33:24.488811Z",
     "iopub.status.busy": "2025-04-25T16:33:24.488610Z",
     "iopub.status.idle": "2025-04-25T16:33:24.511635Z",
     "shell.execute_reply": "2025-04-25T16:33:24.511132Z"
    },
    "papermill": {
     "duration": 0.026489,
     "end_time": "2025-04-25T16:33:24.512656",
     "exception": false,
     "start_time": "2025-04-25T16:33:24.486167",
     "status": "completed"
    },
    "tags": []
   },
   "outputs": [],
   "source": [
    "# 2. Merge on tx_hash to align IF prediction with ground truth\n",
    "merged = pd.merge(\n",
    "    res_df, test_df,\n",
    "    left_on=\"tx_hash\", right_on=\"tx_hash\",\n",
    "    suffixes=(\"_if\", \"\")\n",
    ")"
   ]
  },
  {
   "cell_type": "code",
   "execution_count": 4,
   "id": "0086a00a",
   "metadata": {
    "execution": {
     "iopub.execute_input": "2025-04-25T16:33:24.516985Z",
     "iopub.status.busy": "2025-04-25T16:33:24.516787Z",
     "iopub.status.idle": "2025-04-25T16:33:24.522899Z",
     "shell.execute_reply": "2025-04-25T16:33:24.522158Z"
    },
    "papermill": {
     "duration": 0.009423,
     "end_time": "2025-04-25T16:33:24.523913",
     "exception": false,
     "start_time": "2025-04-25T16:33:24.514490",
     "status": "completed"
    },
    "tags": []
   },
   "outputs": [
    {
     "name": "stdout",
     "output_type": "stream",
     "text": [
      "Found 251 false-negative records.\n"
     ]
    }
   ],
   "source": [
    "# 3. Filter for IF false negatives:\n",
    "#    predicted auth (“authentic”) but actual type == “anomaly”\n",
    "fn = merged[\n",
    "    (merged[\"anomaly\"] == \"authentic\") &\n",
    "    (merged[\"type\"]    != \"authentic\")\n",
    "].copy()\n",
    "\n",
    "print(f\"Found {len(fn)} false-negative records.\")"
   ]
  },
  {
   "cell_type": "code",
   "execution_count": 5,
   "id": "2968be99",
   "metadata": {
    "execution": {
     "iopub.execute_input": "2025-04-25T16:33:24.528438Z",
     "iopub.status.busy": "2025-04-25T16:33:24.528205Z",
     "iopub.status.idle": "2025-04-25T16:33:24.540755Z",
     "shell.execute_reply": "2025-04-25T16:33:24.539961Z"
    },
    "papermill": {
     "duration": 0.016126,
     "end_time": "2025-04-25T16:33:24.541872",
     "exception": false,
     "start_time": "2025-04-25T16:33:24.525746",
     "status": "completed"
    },
    "tags": []
   },
   "outputs": [],
   "source": [
    "# 4. Build feature DataFrame exactly matching your pipelines’ X\n",
    "#    pipelines expect columns:\n",
    "#      ['BlockHeight','Value','hour','day','month','year','From','To']\n",
    "fn[\"TimeStamp\"] = pd.to_datetime(fn[\"timestamp\"], unit=\"s\")\n",
    "fn[\"hour\"]  = fn[\"TimeStamp\"].dt.hour\n",
    "fn[\"day\"]   = fn[\"TimeStamp\"].dt.day\n",
    "fn[\"month\"] = fn[\"TimeStamp\"].dt.month\n",
    "fn[\"year\"]  = fn[\"TimeStamp\"].dt.year\n",
    "\n",
    "X_fn = fn[[\n",
    "    \"block_number\", \"value\",\n",
    "    \"hour\",\"day\",\"month\",\"year\",\n",
    "    \"from\", \"to\"\n",
    "]].rename(columns={\n",
    "    \"block_number\": \"BlockHeight\",\n",
    "    \"value\":        \"Value\",\n",
    "    \"from\":         \"From\",\n",
    "    \"to\":           \"To\"\n",
    "})"
   ]
  },
  {
   "cell_type": "code",
   "execution_count": 6,
   "id": "98c631cb",
   "metadata": {
    "execution": {
     "iopub.execute_input": "2025-04-25T16:33:24.546735Z",
     "iopub.status.busy": "2025-04-25T16:33:24.546550Z",
     "iopub.status.idle": "2025-04-25T16:33:34.288079Z",
     "shell.execute_reply": "2025-04-25T16:33:34.287345Z"
    },
    "papermill": {
     "duration": 9.745235,
     "end_time": "2025-04-25T16:33:34.289279",
     "exception": false,
     "start_time": "2025-04-25T16:33:24.544044",
     "status": "completed"
    },
    "tags": []
   },
   "outputs": [
    {
     "name": "stdout",
     "output_type": "stream",
     "text": [
      "Models to test: ['RF+XGB', 'MLP', 'RF+MLP', 'XGB', 'RF+MLP+XGB', 'MLP+XGB', 'RF']\n"
     ]
    }
   ],
   "source": [
    "# 5. Load your saved pipelines from the Kaggle input dir\n",
    "model_dir = \"/kaggle/input/comp517_models/scikitlearn/default/1\"\n",
    "pipelines = {}\n",
    "for fname in os.listdir(model_dir):\n",
    "    if fname.startswith(\"pipeline_\") and fname.endswith(\".pkl\"):\n",
    "        name = fname.replace(\"pipeline_\",\"\").replace(\".pkl\",\"\").replace(\"_\",\"+\")\n",
    "        with open(os.path.join(model_dir, fname),\"rb\") as f:\n",
    "            pipelines[name] = pickle.load(f)\n",
    "\n",
    "print(\"Models to test:\", list(pipelines.keys()))"
   ]
  },
  {
   "cell_type": "code",
   "execution_count": 7,
   "id": "95f27e35",
   "metadata": {
    "execution": {
     "iopub.execute_input": "2025-04-25T16:33:34.294171Z",
     "iopub.status.busy": "2025-04-25T16:33:34.293807Z",
     "iopub.status.idle": "2025-04-25T16:33:34.842463Z",
     "shell.execute_reply": "2025-04-25T16:33:34.841649Z"
    },
    "papermill": {
     "duration": 0.552417,
     "end_time": "2025-04-25T16:33:34.843768",
     "exception": false,
     "start_time": "2025-04-25T16:33:34.291351",
     "status": "completed"
    },
    "tags": []
   },
   "outputs": [
    {
     "name": "stdout",
     "output_type": "stream",
     "text": [
      "\n",
      "False-Negative Subset Prediction Summary:\n",
      "        Model  Valid (0)  Error (1)  Total\n",
      "0      RF+XGB        251          0    251\n",
      "1         MLP          0        251    251\n",
      "2      RF+MLP          0        251    251\n",
      "3         XGB        251          0    251\n",
      "4  RF+MLP+XGB        251          0    251\n",
      "5     MLP+XGB        250          1    251\n",
      "6          RF        251          0    251\n"
     ]
    }
   ],
   "source": [
    "# 6. Predict & summarize\n",
    "summary = []\n",
    "for name, pipe in pipelines.items():\n",
    "    preds = pipe.predict(X_fn)\n",
    "    valid_count = int((preds == 0).sum())\n",
    "    error_count = int((preds == 1).sum())\n",
    "    summary.append({\n",
    "        \"Model\":     name,\n",
    "        \"Valid (0)\": valid_count,\n",
    "        \"Error (1)\": error_count,\n",
    "        \"Total\":     len(preds)\n",
    "    })\n",
    "\n",
    "summary_df = pd.DataFrame(summary)\n",
    "print(\"\\nFalse-Negative Subset Prediction Summary:\")\n",
    "print(summary_df)"
   ]
  },
  {
   "cell_type": "code",
   "execution_count": 8,
   "id": "562518db",
   "metadata": {
    "execution": {
     "iopub.execute_input": "2025-04-25T16:33:34.849952Z",
     "iopub.status.busy": "2025-04-25T16:33:34.849568Z",
     "iopub.status.idle": "2025-04-25T16:33:34.858083Z",
     "shell.execute_reply": "2025-04-25T16:33:34.857535Z"
    },
    "papermill": {
     "duration": 0.013201,
     "end_time": "2025-04-25T16:33:34.859139",
     "exception": false,
     "start_time": "2025-04-25T16:33:34.845938",
     "status": "completed"
    },
    "tags": []
   },
   "outputs": [
    {
     "name": "stdout",
     "output_type": "stream",
     "text": [
      "\n",
      "Saved summary to fn_prediction_summary.csv\n"
     ]
    }
   ],
   "source": [
    "# 7. Save to CSV if you like\n",
    "summary_df.to_csv(\"fn_prediction_summary.csv\", index=False)\n",
    "print(\"\\nSaved summary to fn_prediction_summary.csv\")"
   ]
  }
 ],
 "metadata": {
  "kaggle": {
   "accelerator": "nvidiaTeslaT4",
   "dataSources": [
    {
     "datasetId": 7251618,
     "sourceId": 11565771,
     "sourceType": "datasetVersion"
    },
    {
     "isSourceIdPinned": true,
     "modelId": 315778,
     "modelInstanceId": 295168,
     "sourceId": 353835,
     "sourceType": "modelInstanceVersion"
    }
   ],
   "dockerImageVersionId": 31011,
   "isGpuEnabled": true,
   "isInternetEnabled": true,
   "language": "python",
   "sourceType": "notebook"
  },
  "kernelspec": {
   "display_name": "Python 3",
   "language": "python",
   "name": "python3"
  },
  "language_info": {
   "codemirror_mode": {
    "name": "ipython",
    "version": 3
   },
   "file_extension": ".py",
   "mimetype": "text/x-python",
   "name": "python",
   "nbconvert_exporter": "python",
   "pygments_lexer": "ipython3",
   "version": "3.11.11"
  },
  "papermill": {
   "default_parameters": {},
   "duration": 16.543014,
   "end_time": "2025-04-25T16:33:35.477626",
   "environment_variables": {},
   "exception": null,
   "input_path": "__notebook__.ipynb",
   "output_path": "__notebook__.ipynb",
   "parameters": {},
   "start_time": "2025-04-25T16:33:18.934612",
   "version": "2.6.0"
  }
 },
 "nbformat": 4,
 "nbformat_minor": 5
}
