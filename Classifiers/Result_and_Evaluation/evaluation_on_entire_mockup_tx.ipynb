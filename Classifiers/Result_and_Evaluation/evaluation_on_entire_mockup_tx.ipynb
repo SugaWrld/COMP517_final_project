{
 "cells": [
  {
   "cell_type": "code",
   "execution_count": 1,
   "id": "edff7640",
   "metadata": {
    "_cell_guid": "b1076dfc-b9ad-4769-8c92-a6c4dae69d19",
    "_uuid": "8f2839f25d086af736a60e9eeb907d3b93b6e0e5",
    "execution": {
     "iopub.execute_input": "2025-04-26T20:18:12.226410Z",
     "iopub.status.busy": "2025-04-26T20:18:12.225849Z",
     "iopub.status.idle": "2025-04-26T20:18:14.879747Z",
     "shell.execute_reply": "2025-04-26T20:18:14.879127Z"
    },
    "papermill": {
     "duration": 2.658426,
     "end_time": "2025-04-26T20:18:14.881124",
     "exception": false,
     "start_time": "2025-04-26T20:18:12.222698",
     "status": "completed"
    },
    "tags": []
   },
   "outputs": [],
   "source": [
    "import pandas as pd\n",
    "from sklearn.metrics import classification_report\n",
    "import pickle"
   ]
  },
  {
   "cell_type": "code",
   "execution_count": 2,
   "id": "f9364c72",
   "metadata": {
    "execution": {
     "iopub.execute_input": "2025-04-26T20:18:14.885541Z",
     "iopub.status.busy": "2025-04-26T20:18:14.885191Z",
     "iopub.status.idle": "2025-04-26T20:18:45.314262Z",
     "shell.execute_reply": "2025-04-26T20:18:45.313699Z"
    },
    "papermill": {
     "duration": 30.432658,
     "end_time": "2025-04-26T20:18:45.315778",
     "exception": false,
     "start_time": "2025-04-26T20:18:14.883120",
     "status": "completed"
    },
    "tags": []
   },
   "outputs": [],
   "source": [
    "# 1. Load and preprocess the second‐order dataset\n",
    "df2 = pd.read_csv(\"/kaggle/input/ethereum-transactions-for-fraud-detection/second_order_df.csv\")\n",
    "df2.columns = df2.columns.str.strip()\n",
    "\n",
    "# Drop any stray index column\n",
    "if 'Unnamed: 0' in df2.columns:\n",
    "    df2.drop('Unnamed: 0', axis=1, inplace=True)\n",
    "\n",
    "# Convert Unix timestamp and extract time features\n",
    "df2['TimeStamp'] = pd.to_datetime(df2['TimeStamp'], unit='s')\n",
    "df2['hour']  = df2['TimeStamp'].dt.hour\n",
    "df2['day']   = df2['TimeStamp'].dt.day\n",
    "df2['month'] = df2['TimeStamp'].dt.month\n",
    "df2['year']  = df2['TimeStamp'].dt.year"
   ]
  },
  {
   "cell_type": "code",
   "execution_count": 3,
   "id": "00d2769e",
   "metadata": {
    "execution": {
     "iopub.execute_input": "2025-04-26T20:18:45.319861Z",
     "iopub.status.busy": "2025-04-26T20:18:45.319638Z",
     "iopub.status.idle": "2025-04-26T20:18:45.597848Z",
     "shell.execute_reply": "2025-04-26T20:18:45.597228Z"
    },
    "papermill": {
     "duration": 0.281601,
     "end_time": "2025-04-26T20:18:45.599174",
     "exception": false,
     "start_time": "2025-04-26T20:18:45.317573",
     "status": "completed"
    },
    "tags": []
   },
   "outputs": [],
   "source": [
    "# 2. Prepare features & target\n",
    "features = ['BlockHeight', 'Value', 'hour', 'day', 'month', 'year', 'From', 'To']\n",
    "X2 = df2[features]\n",
    "y2 = df2['isError']"
   ]
  },
  {
   "cell_type": "code",
   "execution_count": 4,
   "id": "5cdb8d60",
   "metadata": {
    "execution": {
     "iopub.execute_input": "2025-04-26T20:18:45.603063Z",
     "iopub.status.busy": "2025-04-26T20:18:45.602841Z",
     "iopub.status.idle": "2025-04-26T20:18:55.547518Z",
     "shell.execute_reply": "2025-04-26T20:18:55.546889Z"
    },
    "papermill": {
     "duration": 9.948212,
     "end_time": "2025-04-26T20:18:55.549075",
     "exception": false,
     "start_time": "2025-04-26T20:18:45.600863",
     "status": "completed"
    },
    "tags": []
   },
   "outputs": [],
   "source": [
    "# 3. Load all your saved pipelines\n",
    "model_keys = [\"RF\", \"MLP\", \"XGB\", \"RF+MLP\", \"RF+XGB\", \"MLP+XGB\", \"RF+MLP+XGB\"]\n",
    "pipelines = {}\n",
    "for key in model_keys:\n",
    "    fname = f\"/kaggle/input/comp517_models/scikitlearn/default/1/pipeline_{key.replace('+','_')}.pkl\"\n",
    "    with open(fname, \"rb\") as f:\n",
    "        pipelines[key] = pickle.load(f)"
   ]
  },
  {
   "cell_type": "code",
   "execution_count": 5,
   "id": "c3507339",
   "metadata": {
    "execution": {
     "iopub.execute_input": "2025-04-26T20:18:55.554047Z",
     "iopub.status.busy": "2025-04-26T20:18:55.553818Z",
     "iopub.status.idle": "2025-04-26T21:12:57.341224Z",
     "shell.execute_reply": "2025-04-26T21:12:57.340383Z"
    },
    "papermill": {
     "duration": 3241.792606,
     "end_time": "2025-04-26T21:12:57.343775",
     "exception": false,
     "start_time": "2025-04-26T20:18:55.551169",
     "status": "completed"
    },
    "tags": []
   },
   "outputs": [
    {
     "name": "stdout",
     "output_type": "stream",
     "text": [
      "Overall Summary with Class-wise Correctness %:\n",
      "        Model  Valid (0)  Error (1)  Correct    Total  Accuracy  \\\n",
      "0          RF    6792684       1837  6463903  6794521  0.951340   \n",
      "1         MLP    6792901       1620  6461174  6794521  0.950939   \n",
      "2         XGB    6794394        127  6462903  6794521  0.951193   \n",
      "3      RF+MLP    6793626        895  6462459  6794521  0.951128   \n",
      "4      RF+XGB    6794203        318  6463102  6794521  0.951223   \n",
      "5     MLP+XGB    6792882       1639  6461221  6794521  0.950946   \n",
      "6  RF+MLP+XGB    6794397        124  6462908  6794521  0.951194   \n",
      "\n",
      "   Valid_Correct_%  Error_Correct_%  \n",
      "0         0.951380         0.804573  \n",
      "1         0.951165         0.003086  \n",
      "2         0.951193         0.968504  \n",
      "3         0.951211         0.318436  \n",
      "4         0.951220         1.000000  \n",
      "5         0.951170         0.023185  \n",
      "6         0.951193         1.000000  \n"
     ]
    }
   ],
   "source": [
    "# 4. Evaluate each model on the second‐order set and summarize correctness\n",
    "summary = []\n",
    "total = len(y2)\n",
    "\n",
    "for name, pipe in pipelines.items():\n",
    "    y_pred = pipe.predict(X2)\n",
    "\n",
    "    # Counts\n",
    "    valid_count = int((y_pred == 0).sum())\n",
    "    error_count = int((y_pred == 1).sum())\n",
    "    correct    = int((y_pred == y2).sum())\n",
    "    accuracy   = correct / total\n",
    "\n",
    "    # Correctness within predicted-valid\n",
    "    correct_valid = int(((y_pred == 0) & (y2 == 0)).sum())\n",
    "    valid_correct_pct = correct_valid / valid_count if valid_count > 0 else 0.0\n",
    "\n",
    "    # Correctness within predicted-error\n",
    "    correct_error = int(((y_pred == 1) & (y2 == 1)).sum())\n",
    "    error_correct_pct = correct_error / error_count if error_count > 0 else 0.0\n",
    "\n",
    "    summary.append({\n",
    "        \"Model\":            name,\n",
    "        \"Valid (0)\":        valid_count,\n",
    "        \"Error (1)\":        error_count,\n",
    "        \"Correct\":          correct,\n",
    "        \"Total\":            total,\n",
    "        \"Accuracy\":         round(accuracy, 6),\n",
    "        \"Valid_Correct_%\":  round(valid_correct_pct, 6),\n",
    "        \"Error_Correct_%\":  round(error_correct_pct, 6)\n",
    "    })\n",
    "\n",
    "summary_df = pd.DataFrame(summary)\n",
    "print(\"Overall Summary with Class-wise Correctness %:\")\n",
    "print(summary_df)"
   ]
  }
 ],
 "metadata": {
  "kaggle": {
   "accelerator": "nvidiaTeslaT4",
   "dataSources": [
    {
     "datasetId": 5276715,
     "sourceId": 8779112,
     "sourceType": "datasetVersion"
    },
    {
     "isSourceIdPinned": true,
     "modelId": 315778,
     "modelInstanceId": 295168,
     "sourceId": 353835,
     "sourceType": "modelInstanceVersion"
    }
   ],
   "dockerImageVersionId": 31011,
   "isGpuEnabled": true,
   "isInternetEnabled": true,
   "language": "python",
   "sourceType": "notebook"
  },
  "kernelspec": {
   "display_name": "Python 3",
   "language": "python",
   "name": "python3"
  },
  "language_info": {
   "codemirror_mode": {
    "name": "ipython",
    "version": 3
   },
   "file_extension": ".py",
   "mimetype": "text/x-python",
   "name": "python",
   "nbconvert_exporter": "python",
   "pygments_lexer": "ipython3",
   "version": "3.11.11"
  },
  "papermill": {
   "default_parameters": {},
   "duration": 3290.19132,
   "end_time": "2025-04-26T21:12:58.367673",
   "environment_variables": {},
   "exception": null,
   "input_path": "__notebook__.ipynb",
   "output_path": "__notebook__.ipynb",
   "parameters": {},
   "start_time": "2025-04-26T20:18:08.176353",
   "version": "2.6.0"
  }
 },
 "nbformat": 4,
 "nbformat_minor": 5
}
