{
 "cells": [
  {
   "cell_type": "code",
   "execution_count": 1,
   "id": "f33d1661",
   "metadata": {
    "execution": {
     "iopub.execute_input": "2025-04-14T03:14:04.561643Z",
     "iopub.status.busy": "2025-04-14T03:14:04.561346Z",
     "iopub.status.idle": "2025-04-14T03:14:09.777835Z",
     "shell.execute_reply": "2025-04-14T03:14:09.776934Z"
    },
    "papermill": {
     "duration": 5.222883,
     "end_time": "2025-04-14T03:14:09.779371",
     "exception": false,
     "start_time": "2025-04-14T03:14:04.556488",
     "status": "completed"
    },
    "tags": []
   },
   "outputs": [
    {
     "name": "stdout",
     "output_type": "stream",
     "text": [
      "Requirement already satisfied: xgboost in /usr/local/lib/python3.10/dist-packages (2.0.3)\r\n",
      "Requirement already satisfied: numpy in /usr/local/lib/python3.10/dist-packages (from xgboost) (1.26.4)\r\n",
      "Requirement already satisfied: scipy in /usr/local/lib/python3.10/dist-packages (from xgboost) (1.13.1)\r\n",
      "Requirement already satisfied: mkl_fft in /usr/local/lib/python3.10/dist-packages (from numpy->xgboost) (1.3.8)\r\n",
      "Requirement already satisfied: mkl_random in /usr/local/lib/python3.10/dist-packages (from numpy->xgboost) (1.2.4)\r\n",
      "Requirement already satisfied: mkl_umath in /usr/local/lib/python3.10/dist-packages (from numpy->xgboost) (0.1.1)\r\n",
      "Requirement already satisfied: mkl in /usr/local/lib/python3.10/dist-packages (from numpy->xgboost) (2025.0.1)\r\n",
      "Requirement already satisfied: tbb4py in /usr/local/lib/python3.10/dist-packages (from numpy->xgboost) (2022.0.0)\r\n",
      "Requirement already satisfied: mkl-service in /usr/local/lib/python3.10/dist-packages (from numpy->xgboost) (2.4.1)\r\n",
      "Requirement already satisfied: intel-openmp>=2024 in /usr/local/lib/python3.10/dist-packages (from mkl->numpy->xgboost) (2024.2.0)\r\n",
      "Requirement already satisfied: tbb==2022.* in /usr/local/lib/python3.10/dist-packages (from mkl->numpy->xgboost) (2022.0.0)\r\n",
      "Requirement already satisfied: tcmlib==1.* in /usr/local/lib/python3.10/dist-packages (from tbb==2022.*->mkl->numpy->xgboost) (1.2.0)\r\n",
      "Requirement already satisfied: intel-cmplr-lib-rt in /usr/local/lib/python3.10/dist-packages (from mkl_umath->numpy->xgboost) (2024.2.0)\r\n",
      "Requirement already satisfied: intel-cmplr-lib-ur==2024.2.0 in /usr/local/lib/python3.10/dist-packages (from intel-openmp>=2024->mkl->numpy->xgboost) (2024.2.0)\r\n"
     ]
    }
   ],
   "source": [
    "!pip install xgboost"
   ]
  },
  {
   "cell_type": "code",
   "execution_count": 2,
   "id": "812cba7e",
   "metadata": {
    "_cell_guid": "b1076dfc-b9ad-4769-8c92-a6c4dae69d19",
    "_uuid": "8f2839f25d086af736a60e9eeb907d3b93b6e0e5",
    "execution": {
     "iopub.execute_input": "2025-04-14T03:14:09.786972Z",
     "iopub.status.busy": "2025-04-14T03:14:09.786712Z",
     "iopub.status.idle": "2025-04-14T03:14:12.967964Z",
     "shell.execute_reply": "2025-04-14T03:14:12.967199Z"
    },
    "papermill": {
     "duration": 3.186648,
     "end_time": "2025-04-14T03:14:12.969680",
     "exception": false,
     "start_time": "2025-04-14T03:14:09.783032",
     "status": "completed"
    },
    "tags": []
   },
   "outputs": [],
   "source": [
    "import pandas as pd\n",
    "from sklearn.compose import ColumnTransformer\n",
    "from sklearn.preprocessing import OneHotEncoder\n",
    "from sklearn.pipeline import Pipeline\n",
    "from sklearn.ensemble import RandomForestClassifier, VotingClassifier\n",
    "from sklearn.neural_network import MLPClassifier\n",
    "from xgboost import XGBClassifier  # Make sure xgboost is installed\n",
    "from sklearn.metrics import classification_report\n",
    "from sklearn.model_selection import train_test_split\n",
    "import pickle"
   ]
  },
  {
   "cell_type": "code",
   "execution_count": 3,
   "id": "4f02962c",
   "metadata": {
    "execution": {
     "iopub.execute_input": "2025-04-14T03:14:12.977764Z",
     "iopub.status.busy": "2025-04-14T03:14:12.977363Z",
     "iopub.status.idle": "2025-04-14T03:14:14.233403Z",
     "shell.execute_reply": "2025-04-14T03:14:14.232678Z"
    },
    "papermill": {
     "duration": 1.26155,
     "end_time": "2025-04-14T03:14:14.234867",
     "exception": false,
     "start_time": "2025-04-14T03:14:12.973317",
     "status": "completed"
    },
    "tags": []
   },
   "outputs": [],
   "source": [
    "# -------------------------------\n",
    "# 1. Load and Combine the Datasets\n",
    "# -------------------------------\n",
    "df1 = pd.read_csv(\"/kaggle/input/ethereum-transactions-for-fraud-detection/first_order_df.csv\")\n",
    "# df2 = pd.read_csv(\"/kaggle/input/ethereum-transactions-for-fraud-detection/second_order_df.csv\")\n",
    "\n",
    "# Drop the \"Unnamed: 0\" column if it exists (usually an extra index column)\n",
    "for df in [df1]:\n",
    "    if 'Unnamed: 0' in df.columns:\n",
    "        df.drop('Unnamed: 0', axis=1, inplace=True)\n",
    "\n",
    "# Combine datasets into one DataFrame\n",
    "# df = pd.concat([df1, df2], ignore_index=True)\n",
    "df = df1"
   ]
  },
  {
   "cell_type": "code",
   "execution_count": 4,
   "id": "2c74d9dc",
   "metadata": {
    "execution": {
     "iopub.execute_input": "2025-04-14T03:14:14.241970Z",
     "iopub.status.busy": "2025-04-14T03:14:14.241725Z",
     "iopub.status.idle": "2025-04-14T03:14:14.289418Z",
     "shell.execute_reply": "2025-04-14T03:14:14.288687Z"
    },
    "papermill": {
     "duration": 0.052653,
     "end_time": "2025-04-14T03:14:14.290762",
     "exception": false,
     "start_time": "2025-04-14T03:14:14.238109",
     "status": "completed"
    },
    "tags": []
   },
   "outputs": [],
   "source": [
    "# -------------------------------\n",
    "# 2. Preprocess the Data: Convert Unix Timestamp and Extract Time Features\n",
    "# -------------------------------\n",
    "# Convert the Unix TimeStamp (e.g., 1529873859) to datetime\n",
    "df['TimeStamp'] = pd.to_datetime(df['TimeStamp'], unit='s')\n",
    "\n",
    "# Extract additional time-based features\n",
    "df['hour'] = df['TimeStamp'].dt.hour\n",
    "df['day'] = df['TimeStamp'].dt.day\n",
    "df['month'] = df['TimeStamp'].dt.month\n",
    "df['year'] = df['TimeStamp'].dt.year"
   ]
  },
  {
   "cell_type": "code",
   "execution_count": 5,
   "id": "886d264b",
   "metadata": {
    "execution": {
     "iopub.execute_input": "2025-04-14T03:14:14.297935Z",
     "iopub.status.busy": "2025-04-14T03:14:14.297684Z",
     "iopub.status.idle": "2025-04-14T03:14:14.320766Z",
     "shell.execute_reply": "2025-04-14T03:14:14.319905Z"
    },
    "papermill": {
     "duration": 0.028003,
     "end_time": "2025-04-14T03:14:14.322079",
     "exception": false,
     "start_time": "2025-04-14T03:14:14.294076",
     "status": "completed"
    },
    "tags": []
   },
   "outputs": [
    {
     "data": {
      "text/html": [
       "<div>\n",
       "<style scoped>\n",
       "    .dataframe tbody tr th:only-of-type {\n",
       "        vertical-align: middle;\n",
       "    }\n",
       "\n",
       "    .dataframe tbody tr th {\n",
       "        vertical-align: top;\n",
       "    }\n",
       "\n",
       "    .dataframe thead th {\n",
       "        text-align: right;\n",
       "    }\n",
       "</style>\n",
       "<table border=\"1\" class=\"dataframe\">\n",
       "  <thead>\n",
       "    <tr style=\"text-align: right;\">\n",
       "      <th></th>\n",
       "      <th>TxHash</th>\n",
       "      <th>BlockHeight</th>\n",
       "      <th>TimeStamp</th>\n",
       "      <th>From</th>\n",
       "      <th>To</th>\n",
       "      <th>Value</th>\n",
       "      <th>isError</th>\n",
       "      <th>hour</th>\n",
       "      <th>day</th>\n",
       "      <th>month</th>\n",
       "      <th>year</th>\n",
       "    </tr>\n",
       "  </thead>\n",
       "  <tbody>\n",
       "    <tr>\n",
       "      <th>0</th>\n",
       "      <td>0xaca3850ba0080cf47b47f80e46da452f61bcbb5470d3...</td>\n",
       "      <td>5848095</td>\n",
       "      <td>2018-06-24 20:57:39</td>\n",
       "      <td>0x16f209b5332a1b4fa5bf19497ca40154c5db2f85</td>\n",
       "      <td>0x002f0c8119c16d310342d869ca8bf6ace34d9c39</td>\n",
       "      <td>0.500000</td>\n",
       "      <td>0</td>\n",
       "      <td>20</td>\n",
       "      <td>24</td>\n",
       "      <td>6</td>\n",
       "      <td>2018</td>\n",
       "    </tr>\n",
       "    <tr>\n",
       "      <th>1</th>\n",
       "      <td>0x95681862f9778e49caecf603dd911d6ed57f7799d89d...</td>\n",
       "      <td>5848181</td>\n",
       "      <td>2018-06-24 21:18:24</td>\n",
       "      <td>0xe7e07e44ee315b5f2d076340b2b7a5cc9a4ee57b</td>\n",
       "      <td>0x002f0c8119c16d310342d869ca8bf6ace34d9c39</td>\n",
       "      <td>0.001020</td>\n",
       "      <td>0</td>\n",
       "      <td>21</td>\n",
       "      <td>24</td>\n",
       "      <td>6</td>\n",
       "      <td>2018</td>\n",
       "    </tr>\n",
       "    <tr>\n",
       "      <th>2</th>\n",
       "      <td>0x716ae3961b50186a0bbc272cfcc4555662f7fe33550f...</td>\n",
       "      <td>5848716</td>\n",
       "      <td>2018-06-24 23:33:12</td>\n",
       "      <td>0x002f0c8119c16d310342d869ca8bf6ace34d9c39</td>\n",
       "      <td>0xe892875b87b94c44edf0e91ee9f49d0525fadd83</td>\n",
       "      <td>0.500390</td>\n",
       "      <td>0</td>\n",
       "      <td>23</td>\n",
       "      <td>24</td>\n",
       "      <td>6</td>\n",
       "      <td>2018</td>\n",
       "    </tr>\n",
       "    <tr>\n",
       "      <th>3</th>\n",
       "      <td>0xf397197b800d6cc055a4db265b5e9df3dd2aa745c813...</td>\n",
       "      <td>5849038</td>\n",
       "      <td>2018-06-25 00:48:04</td>\n",
       "      <td>0x0681d8db095565fe8a346fa0277bffde9c0edbbf</td>\n",
       "      <td>0x002f0c8119c16d310342d869ca8bf6ace34d9c39</td>\n",
       "      <td>0.817800</td>\n",
       "      <td>0</td>\n",
       "      <td>0</td>\n",
       "      <td>25</td>\n",
       "      <td>6</td>\n",
       "      <td>2018</td>\n",
       "    </tr>\n",
       "    <tr>\n",
       "      <th>4</th>\n",
       "      <td>0x7f8086011a32f128dba57fe06fc5f4a181d2f5401e5a...</td>\n",
       "      <td>5849437</td>\n",
       "      <td>2018-06-25 02:19:04</td>\n",
       "      <td>0x002f0c8119c16d310342d869ca8bf6ace34d9c39</td>\n",
       "      <td>0xe892875b87b94c44edf0e91ee9f49d0525fadd83</td>\n",
       "      <td>0.817506</td>\n",
       "      <td>0</td>\n",
       "      <td>2</td>\n",
       "      <td>25</td>\n",
       "      <td>6</td>\n",
       "      <td>2018</td>\n",
       "    </tr>\n",
       "  </tbody>\n",
       "</table>\n",
       "</div>"
      ],
      "text/plain": [
       "                                              TxHash  BlockHeight  \\\n",
       "0  0xaca3850ba0080cf47b47f80e46da452f61bcbb5470d3...      5848095   \n",
       "1  0x95681862f9778e49caecf603dd911d6ed57f7799d89d...      5848181   \n",
       "2  0x716ae3961b50186a0bbc272cfcc4555662f7fe33550f...      5848716   \n",
       "3  0xf397197b800d6cc055a4db265b5e9df3dd2aa745c813...      5849038   \n",
       "4  0x7f8086011a32f128dba57fe06fc5f4a181d2f5401e5a...      5849437   \n",
       "\n",
       "            TimeStamp                                        From  \\\n",
       "0 2018-06-24 20:57:39  0x16f209b5332a1b4fa5bf19497ca40154c5db2f85   \n",
       "1 2018-06-24 21:18:24  0xe7e07e44ee315b5f2d076340b2b7a5cc9a4ee57b   \n",
       "2 2018-06-24 23:33:12  0x002f0c8119c16d310342d869ca8bf6ace34d9c39   \n",
       "3 2018-06-25 00:48:04  0x0681d8db095565fe8a346fa0277bffde9c0edbbf   \n",
       "4 2018-06-25 02:19:04  0x002f0c8119c16d310342d869ca8bf6ace34d9c39   \n",
       "\n",
       "                                           To     Value  isError  hour  day  \\\n",
       "0  0x002f0c8119c16d310342d869ca8bf6ace34d9c39  0.500000        0    20   24   \n",
       "1  0x002f0c8119c16d310342d869ca8bf6ace34d9c39  0.001020        0    21   24   \n",
       "2  0xe892875b87b94c44edf0e91ee9f49d0525fadd83  0.500390        0    23   24   \n",
       "3  0x002f0c8119c16d310342d869ca8bf6ace34d9c39  0.817800        0     0   25   \n",
       "4  0xe892875b87b94c44edf0e91ee9f49d0525fadd83  0.817506        0     2   25   \n",
       "\n",
       "   month  year  \n",
       "0      6  2018  \n",
       "1      6  2018  \n",
       "2      6  2018  \n",
       "3      6  2018  \n",
       "4      6  2018  "
      ]
     },
     "execution_count": 5,
     "metadata": {},
     "output_type": "execute_result"
    }
   ],
   "source": [
    "df.head()"
   ]
  },
  {
   "cell_type": "code",
   "execution_count": 6,
   "id": "811ae2a1",
   "metadata": {
    "execution": {
     "iopub.execute_input": "2025-04-14T03:14:14.330292Z",
     "iopub.status.busy": "2025-04-14T03:14:14.330009Z",
     "iopub.status.idle": "2025-04-14T03:14:14.350631Z",
     "shell.execute_reply": "2025-04-14T03:14:14.350047Z"
    },
    "papermill": {
     "duration": 0.026209,
     "end_time": "2025-04-14T03:14:14.351988",
     "exception": false,
     "start_time": "2025-04-14T03:14:14.325779",
     "status": "completed"
    },
    "tags": []
   },
   "outputs": [],
   "source": [
    "# -------------------------------\n",
    "# 3. Prepare Features and Target\n",
    "# -------------------------------\n",
    "# Define feature columns and the target column\n",
    "features = ['BlockHeight', 'Value', 'hour', 'day', 'month', 'year', 'From', 'To']\n",
    "target = 'isError'\n",
    "\n",
    "X = df[features]\n",
    "y = df[target]"
   ]
  },
  {
   "cell_type": "code",
   "execution_count": 7,
   "id": "a7e5aba3",
   "metadata": {
    "execution": {
     "iopub.execute_input": "2025-04-14T03:14:14.359479Z",
     "iopub.status.busy": "2025-04-14T03:14:14.359236Z",
     "iopub.status.idle": "2025-04-14T03:14:14.411662Z",
     "shell.execute_reply": "2025-04-14T03:14:14.410953Z"
    },
    "papermill": {
     "duration": 0.058058,
     "end_time": "2025-04-14T03:14:14.413333",
     "exception": false,
     "start_time": "2025-04-14T03:14:14.355275",
     "status": "completed"
    },
    "tags": []
   },
   "outputs": [],
   "source": [
    "# -------------------------------\n",
    "# 4. Split the Data into Training and Testing Sets\n",
    "# -------------------------------\n",
    "# For example, use 90% of data for training and 10% for testing\n",
    "X_train, X_test, y_train, y_test = train_test_split(X, y, test_size=0.1, random_state=42)"
   ]
  },
  {
   "cell_type": "code",
   "execution_count": 8,
   "id": "eedeac88",
   "metadata": {
    "execution": {
     "iopub.execute_input": "2025-04-14T03:14:14.421506Z",
     "iopub.status.busy": "2025-04-14T03:14:14.421232Z",
     "iopub.status.idle": "2025-04-14T03:14:14.425209Z",
     "shell.execute_reply": "2025-04-14T03:14:14.424413Z"
    },
    "papermill": {
     "duration": 0.009458,
     "end_time": "2025-04-14T03:14:14.426560",
     "exception": false,
     "start_time": "2025-04-14T03:14:14.417102",
     "status": "completed"
    },
    "tags": []
   },
   "outputs": [],
   "source": [
    "# -------------------------------\n",
    "# 5. Build Pipelines for Different Models and Their Ensembles\n",
    "# -------------------------------\n",
    "\n",
    "# Define the columns used in the model (same as in Step 4)\n",
    "# Numeric: BlockHeight, Value, hour, day, month, year\n",
    "# Categorical: From, To\n",
    "num_cols = ['BlockHeight', 'Value', 'hour', 'day', 'month', 'year']\n",
    "cat_cols = ['From', 'To']\n",
    "\n",
    "# Create a preprocessor: one-hot encode the categorical features, leave numeric features untouched.\n",
    "preprocessor = ColumnTransformer(\n",
    "    transformers=[\n",
    "        ('cat', OneHotEncoder(handle_unknown='ignore'), cat_cols)\n",
    "    ],\n",
    "    remainder='passthrough'\n",
    ")"
   ]
  },
  {
   "cell_type": "code",
   "execution_count": 9,
   "id": "b214c388",
   "metadata": {
    "execution": {
     "iopub.execute_input": "2025-04-14T03:14:14.433460Z",
     "iopub.status.busy": "2025-04-14T03:14:14.433250Z",
     "iopub.status.idle": "2025-04-14T03:14:14.437270Z",
     "shell.execute_reply": "2025-04-14T03:14:14.436589Z"
    },
    "papermill": {
     "duration": 0.00873,
     "end_time": "2025-04-14T03:14:14.438437",
     "exception": false,
     "start_time": "2025-04-14T03:14:14.429707",
     "status": "completed"
    },
    "tags": []
   },
   "outputs": [],
   "source": [
    "# -------------------------------\n",
    "# Create Individual Classifier Pipelines\n",
    "# -------------------------------\n",
    "pipeline_rf = Pipeline([\n",
    "    ('preprocessor', preprocessor),\n",
    "    ('classifier', RandomForestClassifier(n_estimators=100, random_state=42))\n",
    "])\n",
    "\n",
    "pipeline_mlp = Pipeline([\n",
    "    ('preprocessor', preprocessor),\n",
    "    ('classifier', MLPClassifier(random_state=42))\n",
    "])\n",
    "\n",
    "pipeline_xgb = Pipeline([\n",
    "    ('preprocessor', preprocessor),\n",
    "    ('classifier', XGBClassifier(use_label_encoder=False, eval_metric='logloss', random_state=42))\n",
    "])"
   ]
  },
  {
   "cell_type": "code",
   "execution_count": 10,
   "id": "8f00979e",
   "metadata": {
    "execution": {
     "iopub.execute_input": "2025-04-14T03:14:14.445196Z",
     "iopub.status.busy": "2025-04-14T03:14:14.444986Z",
     "iopub.status.idle": "2025-04-14T03:14:14.448607Z",
     "shell.execute_reply": "2025-04-14T03:14:14.447827Z"
    },
    "papermill": {
     "duration": 0.008433,
     "end_time": "2025-04-14T03:14:14.449911",
     "exception": false,
     "start_time": "2025-04-14T03:14:14.441478",
     "status": "completed"
    },
    "tags": []
   },
   "outputs": [],
   "source": [
    "# -------------------------------\n",
    "# Create Ensemble Pipelines Using VotingClassifier\n",
    "# The VotingClassifier here does soft voting.\n",
    "# Note: In these ensemble pipelines, the preprocessor is outside VotingClassifier;\n",
    "# the base classifiers here are not pipelines themselves but raw estimators.\n",
    "# They will be trained on the preprocessed features.\n",
    "# -------------------------------\n",
    "# ensemble_rf_mlp = Pipeline([\n",
    "#     ('preprocessor', preprocessor),\n",
    "#     ('classifier', VotingClassifier(\n",
    "#         estimators=[\n",
    "#             ('rf', RandomForestClassifier(n_estimators=100, random_state=42)),\n",
    "#             ('mlp', MLPClassifier(random_state=42))\n",
    "#         ],\n",
    "#         voting='soft'\n",
    "#     ))\n",
    "# ])\n",
    "\n",
    "# ensemble_rf_xgb = Pipeline([\n",
    "#     ('preprocessor', preprocessor),\n",
    "#     ('classifier', VotingClassifier(\n",
    "#         estimators=[\n",
    "#             ('rf', RandomForestClassifier(n_estimators=100, random_state=42)),\n",
    "#             ('xgb', XGBClassifier(use_label_encoder=False, eval_metric='logloss', random_state=42))\n",
    "#         ],\n",
    "#         voting='soft'\n",
    "#     ))\n",
    "# ])\n",
    "\n",
    "# ensemble_mlp_xgb = Pipeline([\n",
    "#     ('preprocessor', preprocessor),\n",
    "#     ('classifier', VotingClassifier(\n",
    "#         estimators=[\n",
    "#             ('mlp', MLPClassifier(random_state=42)),\n",
    "#             ('xgb', XGBClassifier(use_label_encoder=False, eval_metric='logloss', random_state=42))\n",
    "#         ],\n",
    "#         voting='soft'\n",
    "#     ))\n",
    "# ])\n",
    "\n",
    "# ensemble_rf_mlp_xgb = Pipeline([\n",
    "#     ('preprocessor', preprocessor),\n",
    "#     ('classifier', VotingClassifier(\n",
    "#         estimators=[\n",
    "#             ('rf', RandomForestClassifier(n_estimators=100, random_state=42)),\n",
    "#             ('mlp', MLPClassifier(random_state=42)),\n",
    "#             ('xgb', XGBClassifier(use_label_encoder=False, eval_metric='logloss', random_state=42))\n",
    "#         ],\n",
    "#         voting='soft'\n",
    "#     ))\n",
    "# ])"
   ]
  },
  {
   "cell_type": "code",
   "execution_count": 11,
   "id": "ca0da849",
   "metadata": {
    "execution": {
     "iopub.execute_input": "2025-04-14T03:14:14.456733Z",
     "iopub.status.busy": "2025-04-14T03:14:14.456534Z",
     "iopub.status.idle": "2025-04-14T03:14:14.459776Z",
     "shell.execute_reply": "2025-04-14T03:14:14.458989Z"
    },
    "papermill": {
     "duration": 0.008081,
     "end_time": "2025-04-14T03:14:14.461058",
     "exception": false,
     "start_time": "2025-04-14T03:14:14.452977",
     "status": "completed"
    },
    "tags": []
   },
   "outputs": [],
   "source": [
    "# -------------------------------\n",
    "# Create a dictionary to hold all pipelines for convenience.\n",
    "# -------------------------------\n",
    "pipelines = {\n",
    "    \"RF\": pipeline_rf,\n",
    "    \"MLP\": pipeline_mlp,\n",
    "    \"XGB\": pipeline_xgb,\n",
    "    # \"RF+MLP\": ensemble_rf_mlp,\n",
    "    # \"RF+XGB\": ensemble_rf_xgb,\n",
    "    # \"MLP+XGB\": ensemble_mlp_xgb,\n",
    "    # \"RF+MLP+XGB\": ensemble_rf_mlp_xgb\n",
    "}"
   ]
  },
  {
   "cell_type": "code",
   "execution_count": 12,
   "id": "02169095",
   "metadata": {
    "execution": {
     "iopub.execute_input": "2025-04-14T03:14:14.467932Z",
     "iopub.status.busy": "2025-04-14T03:14:14.467684Z",
     "iopub.status.idle": "2025-04-14T08:36:45.271372Z",
     "shell.execute_reply": "2025-04-14T08:36:45.270638Z"
    },
    "papermill": {
     "duration": 19350.809084,
     "end_time": "2025-04-14T08:36:45.273239",
     "exception": false,
     "start_time": "2025-04-14T03:14:14.464155",
     "status": "completed"
    },
    "tags": []
   },
   "outputs": [
    {
     "name": "stdout",
     "output_type": "stream",
     "text": [
      "Training RF model...\n",
      "Training MLP model...\n",
      "Training XGB model...\n"
     ]
    }
   ],
   "source": [
    "# -------------------------------\n",
    "# 6. Train All Pipelines\n",
    "# -------------------------------\n",
    "for name, pipe in pipelines.items():\n",
    "    print(f\"Training {name} model...\")\n",
    "    pipe.fit(X_train, y_train)"
   ]
  },
  {
   "cell_type": "code",
   "execution_count": 13,
   "id": "40ed74f8",
   "metadata": {
    "execution": {
     "iopub.execute_input": "2025-04-14T08:36:45.283159Z",
     "iopub.status.busy": "2025-04-14T08:36:45.282822Z",
     "iopub.status.idle": "2025-04-14T08:36:48.699853Z",
     "shell.execute_reply": "2025-04-14T08:36:48.699099Z"
    },
    "papermill": {
     "duration": 3.422681,
     "end_time": "2025-04-14T08:36:48.701103",
     "exception": false,
     "start_time": "2025-04-14T08:36:45.278422",
     "status": "completed"
    },
    "tags": []
   },
   "outputs": [
    {
     "name": "stdout",
     "output_type": "stream",
     "text": [
      "\n",
      "Classification Report for RF:\n",
      "              precision    recall  f1-score   support\n",
      "\n",
      "           0       1.00      1.00      1.00     23886\n",
      "           1       0.95      0.94      0.95      1612\n",
      "\n",
      "    accuracy                           0.99     25498\n",
      "   macro avg       0.97      0.97      0.97     25498\n",
      "weighted avg       0.99      0.99      0.99     25498\n",
      "\n",
      "\n",
      "Classification Report for MLP:\n"
     ]
    },
    {
     "name": "stderr",
     "output_type": "stream",
     "text": [
      "/usr/local/lib/python3.10/dist-packages/sklearn/metrics/_classification.py:1344: UndefinedMetricWarning: Precision and F-score are ill-defined and being set to 0.0 in labels with no predicted samples. Use `zero_division` parameter to control this behavior.\n",
      "  _warn_prf(average, modifier, msg_start, len(result))\n",
      "/usr/local/lib/python3.10/dist-packages/sklearn/metrics/_classification.py:1344: UndefinedMetricWarning: Precision and F-score are ill-defined and being set to 0.0 in labels with no predicted samples. Use `zero_division` parameter to control this behavior.\n",
      "  _warn_prf(average, modifier, msg_start, len(result))\n",
      "/usr/local/lib/python3.10/dist-packages/sklearn/metrics/_classification.py:1344: UndefinedMetricWarning: Precision and F-score are ill-defined and being set to 0.0 in labels with no predicted samples. Use `zero_division` parameter to control this behavior.\n",
      "  _warn_prf(average, modifier, msg_start, len(result))\n"
     ]
    },
    {
     "name": "stdout",
     "output_type": "stream",
     "text": [
      "              precision    recall  f1-score   support\n",
      "\n",
      "           0       0.94      1.00      0.97     23886\n",
      "           1       0.00      0.00      0.00      1612\n",
      "\n",
      "    accuracy                           0.94     25498\n",
      "   macro avg       0.47      0.50      0.48     25498\n",
      "weighted avg       0.88      0.94      0.91     25498\n",
      "\n",
      "\n",
      "Classification Report for XGB:\n",
      "              precision    recall  f1-score   support\n",
      "\n",
      "           0       0.98      1.00      0.99     23886\n",
      "           1       0.99      0.66      0.79      1612\n",
      "\n",
      "    accuracy                           0.98     25498\n",
      "   macro avg       0.98      0.83      0.89     25498\n",
      "weighted avg       0.98      0.98      0.98     25498\n",
      "\n"
     ]
    }
   ],
   "source": [
    "# -------------------------------\n",
    "# 7. Evaluate All Pipelines on Test Data\n",
    "# -------------------------------\n",
    "for name, pipe in pipelines.items():\n",
    "    print(f\"\\nClassification Report for {name}:\")\n",
    "    y_pred = pipe.predict(X_test)\n",
    "    print(classification_report(y_test, y_pred))"
   ]
  },
  {
   "cell_type": "code",
   "execution_count": 14,
   "id": "eb2f8a10",
   "metadata": {
    "execution": {
     "iopub.execute_input": "2025-04-14T08:36:48.709612Z",
     "iopub.status.busy": "2025-04-14T08:36:48.709365Z",
     "iopub.status.idle": "2025-04-14T08:36:49.171864Z",
     "shell.execute_reply": "2025-04-14T08:36:49.170331Z"
    },
    "papermill": {
     "duration": 0.468313,
     "end_time": "2025-04-14T08:36:49.173385",
     "exception": false,
     "start_time": "2025-04-14T08:36:48.705072",
     "status": "completed"
    },
    "tags": []
   },
   "outputs": [
    {
     "name": "stdout",
     "output_type": "stream",
     "text": [
      "RF pipeline saved as pipeline_RF.pkl.\n",
      "MLP pipeline saved as pipeline_MLP.pkl.\n",
      "XGB pipeline saved as pipeline_XGB.pkl.\n"
     ]
    }
   ],
   "source": [
    "# -------------------------------\n",
    "# 8. Save Each Model Pipeline\n",
    "# -------------------------------\n",
    "for name, pipe in pipelines.items():\n",
    "    filename = f\"pipeline_{name.replace('+', '_')}.pkl\"  # e.g., pipeline_RF.pkl, pipeline_RF_MLP.pkl, etc.\n",
    "    with open(filename, 'wb') as f:\n",
    "        pickle.dump(pipe, f)\n",
    "    print(f\"{name} pipeline saved as {filename}.\")"
   ]
  }
 ],
 "metadata": {
  "kaggle": {
   "accelerator": "nvidiaTeslaT4",
   "dataSources": [
    {
     "datasetId": 5276715,
     "sourceId": 8779112,
     "sourceType": "datasetVersion"
    }
   ],
   "dockerImageVersionId": 30918,
   "isGpuEnabled": true,
   "isInternetEnabled": true,
   "language": "python",
   "sourceType": "notebook"
  },
  "kernelspec": {
   "display_name": "Python 3",
   "language": "python",
   "name": "python3"
  },
  "language_info": {
   "codemirror_mode": {
    "name": "ipython",
    "version": 3
   },
   "file_extension": ".py",
   "mimetype": "text/x-python",
   "name": "python",
   "nbconvert_exporter": "python",
   "pygments_lexer": "ipython3",
   "version": "3.10.12"
  },
  "papermill": {
   "default_parameters": {},
   "duration": 19368.344335,
   "end_time": "2025-04-14T08:36:49.915344",
   "environment_variables": {},
   "exception": null,
   "input_path": "__notebook__.ipynb",
   "output_path": "__notebook__.ipynb",
   "parameters": {},
   "start_time": "2025-04-14T03:14:01.571009",
   "version": "2.6.0"
  }
 },
 "nbformat": 4,
 "nbformat_minor": 5
}
