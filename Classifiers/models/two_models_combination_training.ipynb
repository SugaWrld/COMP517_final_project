{
 "cells": [
  {
   "cell_type": "code",
   "execution_count": 1,
   "id": "73142643",
   "metadata": {
    "execution": {
     "iopub.execute_input": "2025-04-14T15:43:32.865442Z",
     "iopub.status.busy": "2025-04-14T15:43:32.865214Z",
     "iopub.status.idle": "2025-04-14T15:43:37.243255Z",
     "shell.execute_reply": "2025-04-14T15:43:37.242261Z"
    },
    "papermill": {
     "duration": 4.384139,
     "end_time": "2025-04-14T15:43:37.245337",
     "exception": false,
     "start_time": "2025-04-14T15:43:32.861198",
     "status": "completed"
    },
    "tags": []
   },
   "outputs": [
    {
     "name": "stdout",
     "output_type": "stream",
     "text": [
      "Requirement already satisfied: xgboost in /usr/local/lib/python3.10/dist-packages (2.0.3)\r\n",
      "Requirement already satisfied: numpy in /usr/local/lib/python3.10/dist-packages (from xgboost) (1.26.4)\r\n",
      "Requirement already satisfied: scipy in /usr/local/lib/python3.10/dist-packages (from xgboost) (1.13.1)\r\n",
      "Requirement already satisfied: mkl_fft in /usr/local/lib/python3.10/dist-packages (from numpy->xgboost) (1.3.8)\r\n",
      "Requirement already satisfied: mkl_random in /usr/local/lib/python3.10/dist-packages (from numpy->xgboost) (1.2.4)\r\n",
      "Requirement already satisfied: mkl_umath in /usr/local/lib/python3.10/dist-packages (from numpy->xgboost) (0.1.1)\r\n",
      "Requirement already satisfied: mkl in /usr/local/lib/python3.10/dist-packages (from numpy->xgboost) (2025.0.1)\r\n",
      "Requirement already satisfied: tbb4py in /usr/local/lib/python3.10/dist-packages (from numpy->xgboost) (2022.0.0)\r\n",
      "Requirement already satisfied: mkl-service in /usr/local/lib/python3.10/dist-packages (from numpy->xgboost) (2.4.1)\r\n",
      "Requirement already satisfied: intel-openmp>=2024 in /usr/local/lib/python3.10/dist-packages (from mkl->numpy->xgboost) (2024.2.0)\r\n",
      "Requirement already satisfied: tbb==2022.* in /usr/local/lib/python3.10/dist-packages (from mkl->numpy->xgboost) (2022.0.0)\r\n",
      "Requirement already satisfied: tcmlib==1.* in /usr/local/lib/python3.10/dist-packages (from tbb==2022.*->mkl->numpy->xgboost) (1.2.0)\r\n",
      "Requirement already satisfied: intel-cmplr-lib-rt in /usr/local/lib/python3.10/dist-packages (from mkl_umath->numpy->xgboost) (2024.2.0)\r\n",
      "Requirement already satisfied: intel-cmplr-lib-ur==2024.2.0 in /usr/local/lib/python3.10/dist-packages (from intel-openmp>=2024->mkl->numpy->xgboost) (2024.2.0)\r\n"
     ]
    }
   ],
   "source": [
    "!pip install xgboost"
   ]
  },
  {
   "cell_type": "code",
   "execution_count": 2,
   "id": "997c86c1",
   "metadata": {
    "_cell_guid": "b1076dfc-b9ad-4769-8c92-a6c4dae69d19",
    "_uuid": "8f2839f25d086af736a60e9eeb907d3b93b6e0e5",
    "execution": {
     "iopub.execute_input": "2025-04-14T15:43:37.253539Z",
     "iopub.status.busy": "2025-04-14T15:43:37.253276Z",
     "iopub.status.idle": "2025-04-14T15:43:39.611309Z",
     "shell.execute_reply": "2025-04-14T15:43:39.610419Z"
    },
    "papermill": {
     "duration": 2.363698,
     "end_time": "2025-04-14T15:43:39.613016",
     "exception": false,
     "start_time": "2025-04-14T15:43:37.249318",
     "status": "completed"
    },
    "tags": []
   },
   "outputs": [],
   "source": [
    "import pandas as pd\n",
    "from sklearn.compose import ColumnTransformer\n",
    "from sklearn.preprocessing import OneHotEncoder\n",
    "from sklearn.pipeline import Pipeline\n",
    "from sklearn.ensemble import RandomForestClassifier, VotingClassifier\n",
    "from sklearn.neural_network import MLPClassifier\n",
    "from xgboost import XGBClassifier  # Make sure xgboost is installed\n",
    "from sklearn.metrics import classification_report\n",
    "from sklearn.model_selection import train_test_split\n",
    "import pickle"
   ]
  },
  {
   "cell_type": "code",
   "execution_count": 3,
   "id": "bea988c2",
   "metadata": {
    "execution": {
     "iopub.execute_input": "2025-04-14T15:43:39.619984Z",
     "iopub.status.busy": "2025-04-14T15:43:39.619605Z",
     "iopub.status.idle": "2025-04-14T15:43:40.914178Z",
     "shell.execute_reply": "2025-04-14T15:43:40.913259Z"
    },
    "papermill": {
     "duration": 1.299581,
     "end_time": "2025-04-14T15:43:40.915769",
     "exception": false,
     "start_time": "2025-04-14T15:43:39.616188",
     "status": "completed"
    },
    "tags": []
   },
   "outputs": [],
   "source": [
    "# -------------------------------\n",
    "# 1. Load and Combine the Datasets\n",
    "# -------------------------------\n",
    "df1 = pd.read_csv(\"/kaggle/input/ethereum-transactions-for-fraud-detection/first_order_df.csv\")\n",
    "# df2 = pd.read_csv(\"/kaggle/input/ethereum-transactions-for-fraud-detection/second_order_df.csv\")\n",
    "\n",
    "# Drop the \"Unnamed: 0\" column if it exists (usually an extra index column)\n",
    "for df in [df1]:\n",
    "    if 'Unnamed: 0' in df.columns:\n",
    "        df.drop('Unnamed: 0', axis=1, inplace=True)\n",
    "\n",
    "# Combine datasets into one DataFrame\n",
    "# df = pd.concat([df1, df2], ignore_index=True)\n",
    "df = df1"
   ]
  },
  {
   "cell_type": "code",
   "execution_count": 4,
   "id": "98435c69",
   "metadata": {
    "execution": {
     "iopub.execute_input": "2025-04-14T15:43:40.922587Z",
     "iopub.status.busy": "2025-04-14T15:43:40.922333Z",
     "iopub.status.idle": "2025-04-14T15:43:40.967368Z",
     "shell.execute_reply": "2025-04-14T15:43:40.966501Z"
    },
    "papermill": {
     "duration": 0.049815,
     "end_time": "2025-04-14T15:43:40.968751",
     "exception": false,
     "start_time": "2025-04-14T15:43:40.918936",
     "status": "completed"
    },
    "tags": []
   },
   "outputs": [],
   "source": [
    "# -------------------------------\n",
    "# 2. Preprocess the Data: Convert Unix Timestamp and Extract Time Features\n",
    "# -------------------------------\n",
    "# Convert the Unix TimeStamp (e.g., 1529873859) to datetime\n",
    "df['TimeStamp'] = pd.to_datetime(df['TimeStamp'], unit='s')\n",
    "\n",
    "# Extract additional time-based features\n",
    "df['hour'] = df['TimeStamp'].dt.hour\n",
    "df['day'] = df['TimeStamp'].dt.day\n",
    "df['month'] = df['TimeStamp'].dt.month\n",
    "df['year'] = df['TimeStamp'].dt.year"
   ]
  },
  {
   "cell_type": "code",
   "execution_count": 5,
   "id": "bfd868cd",
   "metadata": {
    "execution": {
     "iopub.execute_input": "2025-04-14T15:43:40.975181Z",
     "iopub.status.busy": "2025-04-14T15:43:40.974948Z",
     "iopub.status.idle": "2025-04-14T15:43:40.995398Z",
     "shell.execute_reply": "2025-04-14T15:43:40.994709Z"
    },
    "papermill": {
     "duration": 0.024907,
     "end_time": "2025-04-14T15:43:40.996578",
     "exception": false,
     "start_time": "2025-04-14T15:43:40.971671",
     "status": "completed"
    },
    "tags": []
   },
   "outputs": [
    {
     "data": {
      "text/html": [
       "<div>\n",
       "<style scoped>\n",
       "    .dataframe tbody tr th:only-of-type {\n",
       "        vertical-align: middle;\n",
       "    }\n",
       "\n",
       "    .dataframe tbody tr th {\n",
       "        vertical-align: top;\n",
       "    }\n",
       "\n",
       "    .dataframe thead th {\n",
       "        text-align: right;\n",
       "    }\n",
       "</style>\n",
       "<table border=\"1\" class=\"dataframe\">\n",
       "  <thead>\n",
       "    <tr style=\"text-align: right;\">\n",
       "      <th></th>\n",
       "      <th>TxHash</th>\n",
       "      <th>BlockHeight</th>\n",
       "      <th>TimeStamp</th>\n",
       "      <th>From</th>\n",
       "      <th>To</th>\n",
       "      <th>Value</th>\n",
       "      <th>isError</th>\n",
       "      <th>hour</th>\n",
       "      <th>day</th>\n",
       "      <th>month</th>\n",
       "      <th>year</th>\n",
       "    </tr>\n",
       "  </thead>\n",
       "  <tbody>\n",
       "    <tr>\n",
       "      <th>0</th>\n",
       "      <td>0xaca3850ba0080cf47b47f80e46da452f61bcbb5470d3...</td>\n",
       "      <td>5848095</td>\n",
       "      <td>2018-06-24 20:57:39</td>\n",
       "      <td>0x16f209b5332a1b4fa5bf19497ca40154c5db2f85</td>\n",
       "      <td>0x002f0c8119c16d310342d869ca8bf6ace34d9c39</td>\n",
       "      <td>0.500000</td>\n",
       "      <td>0</td>\n",
       "      <td>20</td>\n",
       "      <td>24</td>\n",
       "      <td>6</td>\n",
       "      <td>2018</td>\n",
       "    </tr>\n",
       "    <tr>\n",
       "      <th>1</th>\n",
       "      <td>0x95681862f9778e49caecf603dd911d6ed57f7799d89d...</td>\n",
       "      <td>5848181</td>\n",
       "      <td>2018-06-24 21:18:24</td>\n",
       "      <td>0xe7e07e44ee315b5f2d076340b2b7a5cc9a4ee57b</td>\n",
       "      <td>0x002f0c8119c16d310342d869ca8bf6ace34d9c39</td>\n",
       "      <td>0.001020</td>\n",
       "      <td>0</td>\n",
       "      <td>21</td>\n",
       "      <td>24</td>\n",
       "      <td>6</td>\n",
       "      <td>2018</td>\n",
       "    </tr>\n",
       "    <tr>\n",
       "      <th>2</th>\n",
       "      <td>0x716ae3961b50186a0bbc272cfcc4555662f7fe33550f...</td>\n",
       "      <td>5848716</td>\n",
       "      <td>2018-06-24 23:33:12</td>\n",
       "      <td>0x002f0c8119c16d310342d869ca8bf6ace34d9c39</td>\n",
       "      <td>0xe892875b87b94c44edf0e91ee9f49d0525fadd83</td>\n",
       "      <td>0.500390</td>\n",
       "      <td>0</td>\n",
       "      <td>23</td>\n",
       "      <td>24</td>\n",
       "      <td>6</td>\n",
       "      <td>2018</td>\n",
       "    </tr>\n",
       "    <tr>\n",
       "      <th>3</th>\n",
       "      <td>0xf397197b800d6cc055a4db265b5e9df3dd2aa745c813...</td>\n",
       "      <td>5849038</td>\n",
       "      <td>2018-06-25 00:48:04</td>\n",
       "      <td>0x0681d8db095565fe8a346fa0277bffde9c0edbbf</td>\n",
       "      <td>0x002f0c8119c16d310342d869ca8bf6ace34d9c39</td>\n",
       "      <td>0.817800</td>\n",
       "      <td>0</td>\n",
       "      <td>0</td>\n",
       "      <td>25</td>\n",
       "      <td>6</td>\n",
       "      <td>2018</td>\n",
       "    </tr>\n",
       "    <tr>\n",
       "      <th>4</th>\n",
       "      <td>0x7f8086011a32f128dba57fe06fc5f4a181d2f5401e5a...</td>\n",
       "      <td>5849437</td>\n",
       "      <td>2018-06-25 02:19:04</td>\n",
       "      <td>0x002f0c8119c16d310342d869ca8bf6ace34d9c39</td>\n",
       "      <td>0xe892875b87b94c44edf0e91ee9f49d0525fadd83</td>\n",
       "      <td>0.817506</td>\n",
       "      <td>0</td>\n",
       "      <td>2</td>\n",
       "      <td>25</td>\n",
       "      <td>6</td>\n",
       "      <td>2018</td>\n",
       "    </tr>\n",
       "  </tbody>\n",
       "</table>\n",
       "</div>"
      ],
      "text/plain": [
       "                                              TxHash  BlockHeight  \\\n",
       "0  0xaca3850ba0080cf47b47f80e46da452f61bcbb5470d3...      5848095   \n",
       "1  0x95681862f9778e49caecf603dd911d6ed57f7799d89d...      5848181   \n",
       "2  0x716ae3961b50186a0bbc272cfcc4555662f7fe33550f...      5848716   \n",
       "3  0xf397197b800d6cc055a4db265b5e9df3dd2aa745c813...      5849038   \n",
       "4  0x7f8086011a32f128dba57fe06fc5f4a181d2f5401e5a...      5849437   \n",
       "\n",
       "            TimeStamp                                        From  \\\n",
       "0 2018-06-24 20:57:39  0x16f209b5332a1b4fa5bf19497ca40154c5db2f85   \n",
       "1 2018-06-24 21:18:24  0xe7e07e44ee315b5f2d076340b2b7a5cc9a4ee57b   \n",
       "2 2018-06-24 23:33:12  0x002f0c8119c16d310342d869ca8bf6ace34d9c39   \n",
       "3 2018-06-25 00:48:04  0x0681d8db095565fe8a346fa0277bffde9c0edbbf   \n",
       "4 2018-06-25 02:19:04  0x002f0c8119c16d310342d869ca8bf6ace34d9c39   \n",
       "\n",
       "                                           To     Value  isError  hour  day  \\\n",
       "0  0x002f0c8119c16d310342d869ca8bf6ace34d9c39  0.500000        0    20   24   \n",
       "1  0x002f0c8119c16d310342d869ca8bf6ace34d9c39  0.001020        0    21   24   \n",
       "2  0xe892875b87b94c44edf0e91ee9f49d0525fadd83  0.500390        0    23   24   \n",
       "3  0x002f0c8119c16d310342d869ca8bf6ace34d9c39  0.817800        0     0   25   \n",
       "4  0xe892875b87b94c44edf0e91ee9f49d0525fadd83  0.817506        0     2   25   \n",
       "\n",
       "   month  year  \n",
       "0      6  2018  \n",
       "1      6  2018  \n",
       "2      6  2018  \n",
       "3      6  2018  \n",
       "4      6  2018  "
      ]
     },
     "execution_count": 5,
     "metadata": {},
     "output_type": "execute_result"
    }
   ],
   "source": [
    "df.head()"
   ]
  },
  {
   "cell_type": "code",
   "execution_count": 6,
   "id": "577d9e98",
   "metadata": {
    "execution": {
     "iopub.execute_input": "2025-04-14T15:43:41.003444Z",
     "iopub.status.busy": "2025-04-14T15:43:41.003241Z",
     "iopub.status.idle": "2025-04-14T15:43:41.015338Z",
     "shell.execute_reply": "2025-04-14T15:43:41.014707Z"
    },
    "papermill": {
     "duration": 0.016646,
     "end_time": "2025-04-14T15:43:41.016402",
     "exception": false,
     "start_time": "2025-04-14T15:43:40.999756",
     "status": "completed"
    },
    "tags": []
   },
   "outputs": [],
   "source": [
    "# -------------------------------\n",
    "# 3. Prepare Features and Target\n",
    "# -------------------------------\n",
    "# Define feature columns and the target column\n",
    "features = ['BlockHeight', 'Value', 'hour', 'day', 'month', 'year', 'From', 'To']\n",
    "target = 'isError'\n",
    "\n",
    "X = df[features]\n",
    "y = df[target]"
   ]
  },
  {
   "cell_type": "code",
   "execution_count": 7,
   "id": "6be3e5d7",
   "metadata": {
    "execution": {
     "iopub.execute_input": "2025-04-14T15:43:41.023035Z",
     "iopub.status.busy": "2025-04-14T15:43:41.022833Z",
     "iopub.status.idle": "2025-04-14T15:43:41.062876Z",
     "shell.execute_reply": "2025-04-14T15:43:41.062197Z"
    },
    "papermill": {
     "duration": 0.044941,
     "end_time": "2025-04-14T15:43:41.064303",
     "exception": false,
     "start_time": "2025-04-14T15:43:41.019362",
     "status": "completed"
    },
    "tags": []
   },
   "outputs": [],
   "source": [
    "# -------------------------------\n",
    "# 4. Split the Data into Training and Testing Sets\n",
    "# -------------------------------\n",
    "# For example, use 90% of data for training and 10% for testing\n",
    "X_train, X_test, y_train, y_test = train_test_split(X, y, test_size=0.1, random_state=42)"
   ]
  },
  {
   "cell_type": "code",
   "execution_count": 8,
   "id": "e48c23eb",
   "metadata": {
    "execution": {
     "iopub.execute_input": "2025-04-14T15:43:41.071405Z",
     "iopub.status.busy": "2025-04-14T15:43:41.071186Z",
     "iopub.status.idle": "2025-04-14T15:43:41.074832Z",
     "shell.execute_reply": "2025-04-14T15:43:41.074180Z"
    },
    "papermill": {
     "duration": 0.008425,
     "end_time": "2025-04-14T15:43:41.076049",
     "exception": false,
     "start_time": "2025-04-14T15:43:41.067624",
     "status": "completed"
    },
    "tags": []
   },
   "outputs": [],
   "source": [
    "# -------------------------------\n",
    "# 5. Build Pipelines for Different Models and Their Ensembles\n",
    "# -------------------------------\n",
    "\n",
    "# Define the columns used in the model (same as in Step 4)\n",
    "# Numeric: BlockHeight, Value, hour, day, month, year\n",
    "# Categorical: From, To\n",
    "num_cols = ['BlockHeight', 'Value', 'hour', 'day', 'month', 'year']\n",
    "cat_cols = ['From', 'To']\n",
    "\n",
    "# Create a preprocessor: one-hot encode the categorical features, leave numeric features untouched.\n",
    "preprocessor = ColumnTransformer(\n",
    "    transformers=[\n",
    "        ('cat', OneHotEncoder(handle_unknown='ignore'), cat_cols)\n",
    "    ],\n",
    "    remainder='passthrough'\n",
    ")"
   ]
  },
  {
   "cell_type": "code",
   "execution_count": 9,
   "id": "0f475eb0",
   "metadata": {
    "execution": {
     "iopub.execute_input": "2025-04-14T15:43:41.082569Z",
     "iopub.status.busy": "2025-04-14T15:43:41.082375Z",
     "iopub.status.idle": "2025-04-14T15:43:41.086200Z",
     "shell.execute_reply": "2025-04-14T15:43:41.085603Z"
    },
    "papermill": {
     "duration": 0.008383,
     "end_time": "2025-04-14T15:43:41.087408",
     "exception": false,
     "start_time": "2025-04-14T15:43:41.079025",
     "status": "completed"
    },
    "tags": []
   },
   "outputs": [],
   "source": [
    "# -------------------------------\n",
    "# Create Individual Classifier Pipelines\n",
    "# -------------------------------\n",
    "pipeline_rf = Pipeline([\n",
    "    ('preprocessor', preprocessor),\n",
    "    ('classifier', RandomForestClassifier(n_estimators=100, random_state=42))\n",
    "])\n",
    "\n",
    "pipeline_mlp = Pipeline([\n",
    "    ('preprocessor', preprocessor),\n",
    "    ('classifier', MLPClassifier(random_state=42))\n",
    "])\n",
    "\n",
    "pipeline_xgb = Pipeline([\n",
    "    ('preprocessor', preprocessor),\n",
    "    ('classifier', XGBClassifier(use_label_encoder=False, eval_metric='logloss', random_state=42))\n",
    "])"
   ]
  },
  {
   "cell_type": "code",
   "execution_count": 10,
   "id": "ed26a325",
   "metadata": {
    "execution": {
     "iopub.execute_input": "2025-04-14T15:43:41.093954Z",
     "iopub.status.busy": "2025-04-14T15:43:41.093754Z",
     "iopub.status.idle": "2025-04-14T15:43:41.098768Z",
     "shell.execute_reply": "2025-04-14T15:43:41.098145Z"
    },
    "papermill": {
     "duration": 0.009585,
     "end_time": "2025-04-14T15:43:41.099937",
     "exception": false,
     "start_time": "2025-04-14T15:43:41.090352",
     "status": "completed"
    },
    "tags": []
   },
   "outputs": [],
   "source": [
    "# -------------------------------\n",
    "# Create Ensemble Pipelines Using VotingClassifier\n",
    "# The VotingClassifier here does soft voting.\n",
    "# Note: In these ensemble pipelines, the preprocessor is outside VotingClassifier;\n",
    "# the base classifiers here are not pipelines themselves but raw estimators.\n",
    "# They will be trained on the preprocessed features.\n",
    "# -------------------------------\n",
    "ensemble_rf_mlp = Pipeline([\n",
    "    ('preprocessor', preprocessor),\n",
    "    ('classifier', VotingClassifier(\n",
    "        estimators=[\n",
    "            ('rf', RandomForestClassifier(n_estimators=100, random_state=42)),\n",
    "            ('mlp', MLPClassifier(random_state=42))\n",
    "        ],\n",
    "        voting='soft'\n",
    "    ))\n",
    "])\n",
    "\n",
    "ensemble_rf_xgb = Pipeline([\n",
    "    ('preprocessor', preprocessor),\n",
    "    ('classifier', VotingClassifier(\n",
    "        estimators=[\n",
    "            ('rf', RandomForestClassifier(n_estimators=100, random_state=42)),\n",
    "            ('xgb', XGBClassifier(use_label_encoder=False, eval_metric='logloss', random_state=42))\n",
    "        ],\n",
    "        voting='soft'\n",
    "    ))\n",
    "])\n",
    "\n",
    "ensemble_mlp_xgb = Pipeline([\n",
    "    ('preprocessor', preprocessor),\n",
    "    ('classifier', VotingClassifier(\n",
    "        estimators=[\n",
    "            ('mlp', MLPClassifier(random_state=42)),\n",
    "            ('xgb', XGBClassifier(use_label_encoder=False, eval_metric='logloss', random_state=42))\n",
    "        ],\n",
    "        voting='soft'\n",
    "    ))\n",
    "])\n",
    "\n",
    "# ensemble_rf_mlp_xgb = Pipeline([\n",
    "#     ('preprocessor', preprocessor),\n",
    "#     ('classifier', VotingClassifier(\n",
    "#         estimators=[\n",
    "#             ('rf', RandomForestClassifier(n_estimators=100, random_state=42)),\n",
    "#             ('mlp', MLPClassifier(random_state=42)),\n",
    "#             ('xgb', XGBClassifier(use_label_encoder=False, eval_metric='logloss', random_state=42))\n",
    "#         ],\n",
    "#         voting='soft'\n",
    "#     ))\n",
    "# ])"
   ]
  },
  {
   "cell_type": "code",
   "execution_count": 11,
   "id": "4630806e",
   "metadata": {
    "execution": {
     "iopub.execute_input": "2025-04-14T15:43:41.106585Z",
     "iopub.status.busy": "2025-04-14T15:43:41.106369Z",
     "iopub.status.idle": "2025-04-14T15:43:41.109450Z",
     "shell.execute_reply": "2025-04-14T15:43:41.108707Z"
    },
    "papermill": {
     "duration": 0.007773,
     "end_time": "2025-04-14T15:43:41.110723",
     "exception": false,
     "start_time": "2025-04-14T15:43:41.102950",
     "status": "completed"
    },
    "tags": []
   },
   "outputs": [],
   "source": [
    "# -------------------------------\n",
    "# Create a dictionary to hold all pipelines for convenience.\n",
    "# -------------------------------\n",
    "pipelines = {\n",
    "    # \"RF\": pipeline_rf,\n",
    "    # \"MLP\": pipeline_mlp,\n",
    "    # \"XGB\": pipeline_xgb,\n",
    "    \"RF+MLP\": ensemble_rf_mlp,\n",
    "    \"RF+XGB\": ensemble_rf_xgb,\n",
    "    \"MLP+XGB\": ensemble_mlp_xgb,\n",
    "    # \"RF+MLP+XGB\": ensemble_rf_mlp_xgb\n",
    "}"
   ]
  },
  {
   "cell_type": "code",
   "execution_count": 12,
   "id": "a06d44f6",
   "metadata": {
    "execution": {
     "iopub.execute_input": "2025-04-14T15:43:41.117252Z",
     "iopub.status.busy": "2025-04-14T15:43:41.117045Z",
     "iopub.status.idle": "2025-04-15T02:13:45.805489Z",
     "shell.execute_reply": "2025-04-15T02:13:45.804677Z"
    },
    "papermill": {
     "duration": 37804.694328,
     "end_time": "2025-04-15T02:13:45.808021",
     "exception": false,
     "start_time": "2025-04-14T15:43:41.113693",
     "status": "completed"
    },
    "tags": []
   },
   "outputs": [
    {
     "name": "stdout",
     "output_type": "stream",
     "text": [
      "Training RF+MLP model...\n",
      "Training RF+XGB model...\n",
      "Training MLP+XGB model...\n"
     ]
    }
   ],
   "source": [
    "# -------------------------------\n",
    "# 6. Train All Pipelines\n",
    "# -------------------------------\n",
    "for name, pipe in pipelines.items():\n",
    "    print(f\"Training {name} model...\")\n",
    "    pipe.fit(X_train, y_train)"
   ]
  },
  {
   "cell_type": "code",
   "execution_count": 13,
   "id": "df5769fb",
   "metadata": {
    "execution": {
     "iopub.execute_input": "2025-04-15T02:13:45.817472Z",
     "iopub.status.busy": "2025-04-15T02:13:45.817213Z",
     "iopub.status.idle": "2025-04-15T02:13:52.162159Z",
     "shell.execute_reply": "2025-04-15T02:13:52.160958Z"
    },
    "papermill": {
     "duration": 6.350926,
     "end_time": "2025-04-15T02:13:52.164077",
     "exception": false,
     "start_time": "2025-04-15T02:13:45.813151",
     "status": "completed"
    },
    "tags": []
   },
   "outputs": [
    {
     "name": "stdout",
     "output_type": "stream",
     "text": [
      "\n",
      "Classification Report for RF+MLP:\n",
      "              precision    recall  f1-score   support\n",
      "\n",
      "           0       0.98      1.00      0.99     23886\n",
      "           1       1.00      0.69      0.82      1612\n",
      "\n",
      "    accuracy                           0.98     25498\n",
      "   macro avg       0.99      0.84      0.90     25498\n",
      "weighted avg       0.98      0.98      0.98     25498\n",
      "\n",
      "\n",
      "Classification Report for RF+XGB:\n",
      "              precision    recall  f1-score   support\n",
      "\n",
      "           0       0.98      1.00      0.99     23886\n",
      "           1       0.99      0.75      0.86      1612\n",
      "\n",
      "    accuracy                           0.98     25498\n",
      "   macro avg       0.99      0.88      0.92     25498\n",
      "weighted avg       0.98      0.98      0.98     25498\n",
      "\n",
      "\n",
      "Classification Report for MLP+XGB:\n",
      "              precision    recall  f1-score   support\n",
      "\n",
      "           0       0.98      1.00      0.99     23886\n",
      "           1       1.00      0.62      0.77      1612\n",
      "\n",
      "    accuracy                           0.98     25498\n",
      "   macro avg       0.99      0.81      0.88     25498\n",
      "weighted avg       0.98      0.98      0.97     25498\n",
      "\n"
     ]
    }
   ],
   "source": [
    "# -------------------------------\n",
    "# 7. Evaluate All Pipelines on Test Data\n",
    "# -------------------------------\n",
    "for name, pipe in pipelines.items():\n",
    "    print(f\"\\nClassification Report for {name}:\")\n",
    "    y_pred = pipe.predict(X_test)\n",
    "    print(classification_report(y_test, y_pred))"
   ]
  },
  {
   "cell_type": "code",
   "execution_count": 14,
   "id": "bf61f1f1",
   "metadata": {
    "execution": {
     "iopub.execute_input": "2025-04-15T02:13:52.177493Z",
     "iopub.status.busy": "2025-04-15T02:13:52.177177Z",
     "iopub.status.idle": "2025-04-15T02:13:53.080945Z",
     "shell.execute_reply": "2025-04-15T02:13:53.080063Z"
    },
    "papermill": {
     "duration": 0.911565,
     "end_time": "2025-04-15T02:13:53.082262",
     "exception": false,
     "start_time": "2025-04-15T02:13:52.170697",
     "status": "completed"
    },
    "tags": []
   },
   "outputs": [
    {
     "name": "stdout",
     "output_type": "stream",
     "text": [
      "RF+MLP pipeline saved as pipeline_RF_MLP.pkl.\n",
      "RF+XGB pipeline saved as pipeline_RF_XGB.pkl.\n",
      "MLP+XGB pipeline saved as pipeline_MLP_XGB.pkl.\n"
     ]
    }
   ],
   "source": [
    "# -------------------------------\n",
    "# 8. Save Each Model Pipeline\n",
    "# -------------------------------\n",
    "for name, pipe in pipelines.items():\n",
    "    filename = f\"pipeline_{name.replace('+', '_')}.pkl\"  # e.g., pipeline_RF.pkl, pipeline_RF_MLP.pkl, etc.\n",
    "    with open(filename, 'wb') as f:\n",
    "        pickle.dump(pipe, f)\n",
    "    print(f\"{name} pipeline saved as {filename}.\")"
   ]
  }
 ],
 "metadata": {
  "kaggle": {
   "accelerator": "nvidiaTeslaT4",
   "dataSources": [
    {
     "datasetId": 5276715,
     "sourceId": 8779112,
     "sourceType": "datasetVersion"
    }
   ],
   "dockerImageVersionId": 30918,
   "isGpuEnabled": true,
   "isInternetEnabled": true,
   "language": "python",
   "sourceType": "notebook"
  },
  "kernelspec": {
   "display_name": "Python 3",
   "language": "python",
   "name": "python3"
  },
  "language_info": {
   "codemirror_mode": {
    "name": "ipython",
    "version": 3
   },
   "file_extension": ".py",
   "mimetype": "text/x-python",
   "name": "python",
   "nbconvert_exporter": "python",
   "pygments_lexer": "ipython3",
   "version": "3.10.12"
  },
  "papermill": {
   "default_parameters": {},
   "duration": 37823.502303,
   "end_time": "2025-04-15T02:13:53.744463",
   "environment_variables": {},
   "exception": null,
   "input_path": "__notebook__.ipynb",
   "output_path": "__notebook__.ipynb",
   "parameters": {},
   "start_time": "2025-04-14T15:43:30.242160",
   "version": "2.6.0"
  }
 },
 "nbformat": 4,
 "nbformat_minor": 5
}
